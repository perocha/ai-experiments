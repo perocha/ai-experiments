{
 "cells": [
  {
   "cell_type": "markdown",
   "metadata": {},
   "source": [
    "### Step 1\n",
    "\n",
    "Initialize the notebook, loading the configuration and importing libraries."
   ]
  },
  {
   "cell_type": "code",
   "execution_count": 13,
   "metadata": {},
   "outputs": [],
   "source": [
    "# Import the libraries required for the notebook\n",
    "import asyncio\n",
    "\n",
    "# Instatiate the config class\n",
    "import sys\n",
    "sys.path.append('..')\n",
    "from config.notebook_config import *\n",
    "config = notebook_config()\n",
    "# Load config from file\n",
    "config.load_config_from_file()\n"
   ]
  },
  {
   "cell_type": "markdown",
   "metadata": {},
   "source": [
    "### Step 2\n",
    "\n",
    "Load the files from a folder and create a dataframe with the data."
   ]
  },
  {
   "cell_type": "code",
   "execution_count": 14,
   "metadata": {},
   "outputs": [
    {
     "name": "stdout",
     "output_type": "stream",
     "text": [
      "['..\\\\data\\\\2023_1-025 Sara Dias González.pdf', '..\\\\data\\\\2023_10-114 Agota Kanapienyte.pdf', '..\\\\data\\\\2023_2-015 Sara Dias González.pdf', '..\\\\data\\\\2023_2-112 Agota Kanapienyte.pdf', '..\\\\data\\\\2023_3-065 Agota Kanapienyte.pdf', '..\\\\data\\\\2023_3-134 Sara Dias González.pdf', '..\\\\data\\\\2023_4-037 Sara Dias González.pdf', '..\\\\data\\\\2023_4-113 Agota Kanapienyte.pdf', '..\\\\data\\\\2023_5-089 Sara Dias González.pdf', '..\\\\data\\\\2023_5-125 Agota Kanapienyte.pdf', '..\\\\data\\\\2023_6-031 Sara Dias González.pdf', '..\\\\data\\\\2023_6-083 Agota Kanapienyte.pdf', '..\\\\data\\\\2023_7-032 Sara Dias González.pdf', '..\\\\data\\\\2023_7-066 Agota Kanapienyte.pdf', '..\\\\data\\\\2023_7_032 Sara Dias González.pdf', '..\\\\data\\\\2023_9-015 Sara Dias González.pdf']\n"
     ]
    }
   ],
   "source": [
    "# Load pdf files from the data folder (these will be invoices)\n",
    "from os import listdir\n",
    "from os.path import isfile, join\n",
    "mypath = \"../data/\"\n",
    "\n",
    "pdf_files = [f for f in listdir(mypath) if isfile(join(mypath, f))]\n",
    "\n",
    "# Print the full path of the files\n",
    "from pathlib import Path\n",
    "pdf_files = [str(Path(mypath) / f) for f in pdf_files]\n",
    "print(pdf_files)"
   ]
  },
  {
   "cell_type": "code",
   "execution_count": 9,
   "metadata": {},
   "outputs": [
    {
     "name": "stdout",
     "output_type": "stream",
     "text": [
      "Kernel loaded.\n",
      "Fire-up the kernel with gpt-35-turbo\n",
      "Plugins loaded.\n"
     ]
    }
   ],
   "source": [
    "import semantic_kernel\n",
    "from plugins.form_recognizer.sk_form_recognizer import FormRecognizer\n",
    "from semantic_kernel.connectors.ai.open_ai import AzureChatCompletion\n",
    "\n",
    "kernel = semantic_kernel.Kernel()\n",
    "print(\"Kernel loaded.\")\n",
    "\n",
    "deployment = config.model\n",
    "endpoint = config.endpoint\n",
    "api_key = config.azure_api_key\n",
    "kernel.add_chat_service(\"dv\", AzureChatCompletion(deployment, endpoint, api_key))\n",
    "print(f\"Fire-up the kernel with {deployment}\")\n",
    "\n",
    "form_recognizer = kernel.import_skill(FormRecognizer(config.get_form_regonizer_endpoint(), config.get_form_regonizer_key()))\n",
    "plugins_directory = \"../plugins\"\n",
    "# Import the semantic functions\n",
    "my_functions = kernel.import_semantic_skill_from_directory(plugins_directory, \"form_recognizer\")\n",
    "print(\"Plugins loaded.\")"
   ]
  },
  {
   "cell_type": "code",
   "execution_count": 16,
   "metadata": {},
   "outputs": [
    {
     "name": "stdout",
     "output_type": "stream",
     "text": [
      "{\n",
      "    \"CustomerAddress\": \"AddressValue(house_number=14, po_box=None, road=C/ Carlos Zabaleta, city=Illescas, state=None, postal_code=45200, country_region=España, street_address=14 C/ Carlos Zabaleta A, unit=A, city_district=None, state_district=None, suburb=None, house=None, level=ático)\",\n",
      "    \"CustomerAddressRecipient\": \"Agota Kanapienyte\",\n",
      "    \"CustomerName\": \"Agota Kanapienyte\",\n",
      "    \"InvoiceDate\": \"2023-03-28\",\n",
      "    \"InvoiceId\": \"#2023_3-065\",\n",
      "    \"InvoiceTotal\": \"€140.0\",\n",
      "    \"Items\": \"[DocumentField(value_type=dictionary, value={'Amount': DocumentField(value_type=currency, value=CurrencyValue(amount=140.0, symbol=€, code=EUR), content=140,00€, bounding_regions=[BoundingRegion(page_number=1, polygon=[Point(x=7.0978, y=4.1369), Point(x=7.5795, y=4.1318), Point(x=7.5795, y=4.2788), Point(x=7.1029, y=4.2737)])], spans=[DocumentSpan(offset=423, length=7)], confidence=0.885), 'Description': DocumentField(value_type=string, value='Clase reeducación pedagógica', content=Clase reeducación pedagógica, bounding_regions=[BoundingRegion(page_number=1, polygon=[Point(x=0.6643, y=4.1141), Point(x=2.5057, y=4.1267), Point(x=2.5045, y=4.3042), Point(x=0.6631, y=4.2916)])], spans=[DocumentSpan(offset=377, length=28)], confidence=0.923), 'Quantity': DocumentField(value_type=float, value=4.0, content=4, bounding_regions=[BoundingRegion(page_number=1, polygon=[Point(x=5.3183, y=4.1369), Point(x=5.3893, y=4.1369), Point(x=5.3893, y=4.2636), Point(x=5.3183, y=4.2636)])], spans=[DocumentSpan(offset=413, length=1)], confidence=0.562), 'UnitPrice': DocumentField(value_type=currency, value=CurrencyValue(amount=35.0, symbol=€, code=EUR), content=35,00€, bounding_regions=[BoundingRegion(page_number=1, polygon=[Point(x=3.843, y=4.1369), Point(x=4.2587, y=4.1318), Point(x=4.2638, y=4.2788), Point(x=3.848, y=4.2788)])], spans=[DocumentSpan(offset=406, length=6)], confidence=0.922)}, content=Clase reeducación pedagógica\\n35,00€\\n4\\n140,00€\\n140,00€, bounding_regions=[BoundingRegion(page_number=1, polygon=[Point(x=0.6642, y=4.1267), Point(x=7.5795, y=4.1267), Point(x=7.5795, y=4.2991), Point(x=0.6642, y=4.2991)])], spans=[DocumentSpan(offset=377, length=53)], confidence=0.898)]\",\n",
      "    \"PaymentDetails\": \"[DocumentField(value_type=dictionary, value={'IBAN': DocumentField(value_type=string, value='ES3501826330260201728220', content=ES3501826330260201728220, bounding_regions=[BoundingRegion(page_number=1, polygon=[Point(x=3.5489, y=10.043), Point(x=4.9888, y=10.0481), Point(x=4.9888, y=10.1546), Point(x=3.5489, y=10.1597)])], spans=[DocumentSpan(offset=504, length=24)], confidence=0.954), 'SWIFT': DocumentField(value_type=string, value='BBVAESMMXXX', content=BBVAESMMXXX, bounding_regions=[BoundingRegion(page_number=1, polygon=[Point(x=3.9342, y=10.1799), Point(x=4.6744, y=10.1799), Point(x=4.6795, y=10.2915), Point(x=3.9342, y=10.2915)])], spans=[DocumentSpan(offset=536, length=11)], confidence=0.961)}, content=None, bounding_regions=[], spans=[], confidence=0.995)]\",\n",
      "    \"SubTotal\": \"€140.0\",\n",
      "    \"VendorAddress\": \"AddressValue(house_number=1 LOCAL 4, po_box=None, road=AV. DE LOS CIGARRALES, city=OLÍAS DEL REY, state=None, postal_code=45280, country_region=España, street_address=1 LOCAL 4 AV. DE LOS CIGARRALES, unit=None, city_district=None, state_district=None, suburb=None, house=None, level=None)\",\n",
      "    \"VendorAddressRecipient\": \"La Fábrica de Palabras\",\n",
      "    \"VendorName\": \"de Palabras\\nD\\nLa Fabrica\\nSol Solis\",\n",
      "    \"VendorTaxId\": \"B16760696\"\n",
      "}\n"
     ]
    }
   ],
   "source": [
    "# Run the semantic function to process the invoice\n",
    "result = await kernel.run_async(\n",
    "    form_recognizer[\"process_invoice\"],\n",
    "    input_str=pdf_files[4],\n",
    ")\n",
    "\n",
    "# Result is a json file with the information extracted from the invoice, print in pretty format\n",
    "import json\n",
    "# Load the JSON string into a Python object\n",
    "result_obj = json.loads(result.result)\n",
    "# Pretty print the object\n",
    "print(json.dumps(result_obj, indent=4, sort_keys=True, ensure_ascii=False))"
   ]
  },
  {
   "cell_type": "code",
   "execution_count": 11,
   "metadata": {},
   "outputs": [
    {
     "name": "stdout",
     "output_type": "stream",
     "text": [
      "{\n",
      "  \"invoice_number\": \"2023_1-025\",\n",
      "  \"customer_name\": \"Sara Dias González\",\n",
      "  \"date\": \"2023-01-28\",\n",
      "  \"total\": 30.0,\n",
      "  \"description\": \"Clase reeducación pedagógica\"\n",
      "}\n"
     ]
    }
   ],
   "source": [
    "# Run the semantic function to summarize the invoice\n",
    "input_str = result.result\n",
    "invoice_summary = asyncio.create_task(kernel.run_async(my_functions[\"summarize\"], input_str=input_str))\n",
    "invoice_summary_result = await invoice_summary\n",
    "print(invoice_summary_result.result)"
   ]
  },
  {
   "cell_type": "code",
   "execution_count": 15,
   "metadata": {},
   "outputs": [
    {
     "name": "stdout",
     "output_type": "stream",
     "text": [
      "{\n",
      "  \"invoice_number\": \"2023_1-025\",\n",
      "  \"customer_name\": \"Sara Dias González\",\n",
      "  \"date\": \"2023-01-28\",\n",
      "  \"total\": 30.0,\n",
      "  \"description\": \"Clase reeducación pedagógica\"\n",
      "}\n",
      "{\n",
      "  \"invoice_number\": \"2023_10-114\",\n",
      "  \"customer_name\": \"Agota Kanapienyte\",\n",
      "  \"date\": \"2023-10-28\",\n",
      "  \"total\": 140.0,\n",
      "  \"description\": \"Clase reeducación pedagógica\"\n",
      "}\n",
      "{\n",
      "  \"invoice_number\": \"2023_2-015\",\n",
      "  \"customer_name\": \"Sara Dias González\",\n",
      "  \"date\": \"2023-02-28\",\n",
      "  \"total\": 30.0,\n",
      "  \"description\": \"Clase reeducación pedagógica\"\n",
      "}\n",
      "{\n",
      "  \"invoice_number\": \"2023_2-112\",\n",
      "  \"customer_name\": \"Agota Kanapienyte\",\n",
      "  \"date\": \"2023-02-28\",\n",
      "  \"total\": 105.0,\n",
      "  \"description\": \"Clase reeducación pedagógica\"\n",
      "}\n",
      "{\n",
      "  \"invoice_number\": \"12345\",\n",
      "  \"customer_name\": \"John Doe\",\n",
      "  \"date\": \"2019-01-01\",\n",
      "  \"total\": 123.45,\n",
      "  \"description\": \"This is a description\"\n",
      "}\n",
      "{\n",
      "  \"invoice_number\": \"2023_3-134\",\n",
      "  \"customer_name\": \"Sara Dias González\",\n",
      "  \"date\": \"2023-03-28\",\n",
      "  \"total\": 35.0,\n",
      "  \"description\": \"Clase reeducación pedagógica\"\n",
      "}\n",
      "{\n",
      "  \"invoice_number\": \"2023_4-037\",\n",
      "  \"customer_name\": \"Sara Dias González\",\n",
      "  \"date\": \"2023-04-28\",\n",
      "  \"total\": 60.0,\n",
      "  \"description\": \"Clase reeducación pedagógica\"\n",
      "}\n",
      "{\n",
      "  \"invoice_number\": \"2023_4-113\",\n",
      "  \"customer_name\": \"Agota Kanapienyte\",\n",
      "  \"date\": \"2023-04-28\",\n",
      "  \"total\": 105.0,\n",
      "  \"description\": \"Clase reeducación pedagógica\"\n",
      "}\n",
      "{\n",
      "  \"invoice_number\": \"2023_5-089\",\n",
      "  \"customer_name\": \"Sara Dias González\",\n",
      "  \"date\": \"2023-05-29\",\n",
      "  \"total\": 60.0,\n",
      "  \"description\": \"Clase reeducación pedagógica\"\n",
      "}\n",
      "{\n",
      "  \"invoice_number\": \"2023_5-125\",\n",
      "  \"customer_name\": \"Agota Kanapienyte\",\n",
      "  \"date\": \"2023-05-29\",\n",
      "  \"total\": 122.5,\n",
      "  \"description\": \"Clase reeducación pedagógica\"\n",
      "}\n",
      "{\n",
      "  \"invoice_number\": \"2023_6-031\",\n",
      "  \"customer_name\": \"Sara Dias González\",\n",
      "  \"date\": \"2023-06-28\",\n",
      "  \"total\": 30.0,\n",
      "  \"description\": \"Clase reeducación pedagógica\"\n",
      "}\n",
      "{\n",
      "  \"invoice_number\": \"2023_6-083\",\n",
      "  \"customer_name\": \"Agota Kanapienyte\",\n",
      "  \"date\": \"2023-06-28\",\n",
      "  \"total\": 105.0,\n",
      "  \"description\": \"Clase reeducación pedagógica\"\n",
      "}\n",
      "{\n",
      "  \"invoice_number\": \"2023_7-032\",\n",
      "  \"customer_name\": \"Sara Dias González\",\n",
      "  \"date\": \"2023-07-28\",\n",
      "  \"total\": 60.0,\n",
      "  \"description\": \"Clase reeducación pedagógica\"\n",
      "}\n",
      "{\n",
      "  \"invoice_number\": \"2023_7-066\",\n",
      "  \"customer_name\": \"Agota Kanapienyte\",\n",
      "  \"date\": \"2023-07-28\",\n",
      "  \"total\": 35.0,\n",
      "  \"description\": \"clase reeducación pedagógica\"\n",
      "}\n",
      "{\n",
      "  \"invoice_number\": \"2023_7-032\",\n",
      "  \"customer_name\": \"Sara Dias González\",\n",
      "  \"date\": \"2023-07-28\",\n",
      "  \"total\": 60.0,\n",
      "  \"description\": \"Clase reeducación pedagógica\"\n",
      "}\n",
      "{\n",
      "  \"invoice_number\": \"2023_9-015\",\n",
      "  \"customer_name\": \"Sara Dias González\",\n",
      "  \"date\": \"2023-09-28\",\n",
      "  \"total\": 60.0,\n",
      "  \"description\": \"Clase reeducación pedagógica\"\n",
      "}\n"
     ]
    }
   ],
   "source": [
    "for invoice in pdf_files:\n",
    "    my_execution = await kernel.run_async(\n",
    "        form_recognizer[\"process_invoice\"],\n",
    "        my_functions[\"summarize\"],\n",
    "        input_str=invoice)\n",
    "\n",
    "    print(\"Invoice: \" + invoice)\n",
    "    print(my_execution.result)\n",
    "\n"
   ]
  }
 ],
 "metadata": {
  "kernelspec": {
   "display_name": "Python 3",
   "language": "python",
   "name": "python3"
  },
  "language_info": {
   "codemirror_mode": {
    "name": "ipython",
    "version": 3
   },
   "file_extension": ".py",
   "mimetype": "text/x-python",
   "name": "python",
   "nbconvert_exporter": "python",
   "pygments_lexer": "ipython3",
   "version": "3.10.9"
  }
 },
 "nbformat": 4,
 "nbformat_minor": 2
}
