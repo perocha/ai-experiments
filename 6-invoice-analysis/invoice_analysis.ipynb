{
 "cells": [
  {
   "cell_type": "markdown",
   "metadata": {},
   "source": [
    "### Step 1\n",
    "\n",
    "Initialize the notebook, loading the configuration and importing libraries."
   ]
  },
  {
   "cell_type": "code",
   "execution_count": null,
   "metadata": {},
   "outputs": [],
   "source": [
    "# Import the libraries required for the notebook\n",
    "import asyncio\n",
    "\n",
    "# Instatiate the config class\n",
    "import sys\n",
    "sys.path.append('..')\n",
    "from config.notebook_config import *\n",
    "config = notebook_config()\n",
    "# Load config from file\n",
    "config.load_config_from_file()\n"
   ]
  },
  {
   "cell_type": "markdown",
   "metadata": {},
   "source": [
    "### Step 2\n",
    "\n",
    "Load the files from a folder and create a dataframe with the data."
   ]
  },
  {
   "cell_type": "code",
   "execution_count": null,
   "metadata": {},
   "outputs": [],
   "source": [
    "# Load pdf files from the data folder (these will be invoices)\n",
    "from os import listdir\n",
    "from os.path import isfile, join\n",
    "mypath = \"<path to your pdf files>\"\n",
    "\n",
    "pdf_files = [f for f in listdir(mypath) if isfile(join(mypath, f))]\n",
    "\n",
    "# Print the full path of the files\n",
    "from pathlib import Path\n",
    "pdf_files = [str(Path(mypath) / f) for f in pdf_files]\n"
   ]
  },
  {
   "cell_type": "code",
   "execution_count": null,
   "metadata": {},
   "outputs": [],
   "source": [
    "import semantic_kernel\n",
    "from plugins.form_recognizer.sk_form_recognizer import FormRecognizer\n",
    "from semantic_kernel.connectors.ai.open_ai import AzureChatCompletion\n",
    "\n",
    "kernel = semantic_kernel.Kernel()\n",
    "print(\"Kernel loaded.\")\n",
    "\n",
    "deployment = config.model\n",
    "endpoint = config.endpoint\n",
    "api_key = config.azure_api_key\n",
    "kernel.add_chat_service(\"dv\", AzureChatCompletion(deployment, endpoint, api_key))\n",
    "print(f\"Fire-up the kernel with {deployment}\")\n",
    "\n",
    "form_recognizer = kernel.import_skill(FormRecognizer(config.get_form_regonizer_endpoint(), config.get_form_regonizer_key()))\n",
    "print(\"Plugins ready.\")"
   ]
  },
  {
   "cell_type": "code",
   "execution_count": null,
   "metadata": {},
   "outputs": [],
   "source": [
    "plugins_directory = \"../plugins\"\n",
    "\n",
    "# Import the semantic functions\n",
    "my_functions = kernel.import_semantic_skill_from_directory(plugins_directory, \"form_recognizer\")\n",
    "\n",
    "print(\"Plugins loaded.\")"
   ]
  },
  {
   "cell_type": "code",
   "execution_count": null,
   "metadata": {},
   "outputs": [],
   "source": [
    "result = await kernel.run_async(\n",
    "    form_recognizer[\"process_invoice\"],\n",
    "    input_str=pdf_files[0],\n",
    ")\n",
    "\n",
    "# Result is a json file with the information extracted from the invoice, print in pretty format\n",
    "import json\n",
    "# Load the JSON string into a Python object\n",
    "result_obj = json.loads(result.result)\n",
    "# Pretty print the object\n",
    "print(json.dumps(result_obj, indent=4, sort_keys=True, ensure_ascii=False))"
   ]
  },
  {
   "cell_type": "code",
   "execution_count": null,
   "metadata": {},
   "outputs": [],
   "source": [
    "# Summarize the invoice\n",
    "input_str = result.result\n",
    "invoice_summary = asyncio.create_task(kernel.run_async(my_functions[\"summarize\"], input_str=input_str))\n",
    "invoice_summary_result = await invoice_summary\n",
    "print(invoice_summary_result.result)"
   ]
  }
 ],
 "metadata": {
  "kernelspec": {
   "display_name": "Python 3",
   "language": "python",
   "name": "python3"
  },
  "language_info": {
   "codemirror_mode": {
    "name": "ipython",
    "version": 3
   },
   "file_extension": ".py",
   "mimetype": "text/x-python",
   "name": "python",
   "nbconvert_exporter": "python",
   "pygments_lexer": "ipython3",
   "version": "3.11.2"
  }
 },
 "nbformat": 4,
 "nbformat_minor": 2
}
