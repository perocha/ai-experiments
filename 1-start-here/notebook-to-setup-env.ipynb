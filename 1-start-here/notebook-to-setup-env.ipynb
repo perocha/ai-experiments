{
 "cells": [
  {
   "cell_type": "markdown",
   "metadata": {},
   "source": [
    "The following code will ask a few questions and save the settings to a local\n",
    "`settings.json` configuration file, which will be stored under the [config](config) folder. You can\n",
    "also edit the file manually if you prefer.\n",
    "**Please keep the file safe!! It's included in .gitignore to avoid accidental commits**\n",
    "\n",
    "## Step 1\n",
    "\n",
    "First step: run the following code. It will ask you a few questions and save the settings to a local config file. "
   ]
  },
  {
   "cell_type": "code",
   "execution_count": 2,
   "metadata": {
    "dotnet_interactive": {
     "language": "csharp"
    },
    "polyglot_notebook": {
     "kernelName": "csharp"
    }
   },
   "outputs": [],
   "source": [
    "#\n",
    "# Purpose: This notebook is used to setup the OpenAI environment\n",
    "#\n",
    "\n",
    "# Instatiate the config class\n",
    "import sys\n",
    "sys.path.append(\"../config\")\n",
    "from notebook_config import notebook_config\n",
    "config = notebook_config()\n",
    "\n",
    "# Ask the user for the config values\n",
    "config.ask_api_type()\n",
    "config.ask_model()\n",
    "config.ask_endpoint()\n",
    "config.ask_api_key()\n"
   ]
  },
  {
   "attachments": {
    "image.png": {
     "image/png": "[encoded data removed]"
    }
   },
   "cell_type": "markdown",
   "metadata": {},
   "source": [
    "# Step 2\n",
    "\n",
    "Second step: run the following code. It will test the OpenAI configuration by making a call.\n",
    "\n",
    "You must see something like this:\n",
    "\n",
    "![image.png](attachment:image.png)\n"
   ]
  },
  {
   "cell_type": "code",
   "execution_count": 3,
   "metadata": {},
   "outputs": [
    {
     "name": "stdout",
     "output_type": "stream",
     "text": [
      "Sure, here's a classic one for you: Why don't scientists trust atoms? Because they make up everything!\n"
     ]
    }
   ],
   "source": [
    "import os\n",
    "import openai\n",
    "\n",
    "# Load config from file\n",
    "config.load_config_from_file()\n",
    "\n",
    "# Ensure your OpenAI API key is properly configured\n",
    "openai.api_type = os.getenv(\"OPENAI_API_TYPE\")\n",
    "openai.api_key = os.getenv(\"OPENAI_API_KEY\")\n",
    "openai.api_base = os.getenv(\"AZURE_OPENAI_ENDPOINT\")\n",
    "openai.api_version = os.getenv(\"AZURE_OPENAI_MODEL_VERSION\")\n",
    "\n",
    "# Define the messages\n",
    "messages = [\n",
    "    {\"role\": \"system\", \"content\": \"You are a helpful assistant.\"},\n",
    "    {\"role\": \"user\", \"content\": \"Tell me a joke\"}\n",
    "]\n",
    "\n",
    "# Make a call to the OpenAI API\n",
    "response = openai.ChatCompletion.create(\n",
    "  deployment_id=os.getenv(\"AZURE_OPENAI_MODEL\"),\n",
    "  temperature=0.9,\n",
    "  max_tokens=150,\n",
    "  messages=messages,\n",
    ")\n",
    "\n",
    "# Print the generated text\n",
    "print(response['choices'][0]['message']['content'])"
   ]
  }
 ],
 "metadata": {
  "kernelspec": {
   "display_name": "Python 3",
   "language": "python",
   "name": "python3"
  },
  "language_info": {
   "codemirror_mode": {
    "name": "ipython",
    "version": 3
   },
   "file_extension": ".py",
   "mimetype": "text/x-python",
   "name": "python",
   "nbconvert_exporter": "python",
   "pygments_lexer": "ipython3",
   "version": "3.11.2"
  },
  "polyglot_notebook": {
   "kernelInfo": {
    "defaultKernelName": "csharp",
    "items": [
     {
      "aliases": [],
      "name": "csharp"
     }
    ]
   }
  }
 },
 "nbformat": 4,
 "nbformat_minor": 2
}
