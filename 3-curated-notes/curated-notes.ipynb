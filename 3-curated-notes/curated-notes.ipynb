{
 "cells": [
  {
   "cell_type": "markdown",
   "metadata": {},
   "source": [
    "### Step 1\n",
    "\n",
    "Initialize the notebook, loading the configuration and importing libraries."
   ]
  },
  {
   "cell_type": "code",
   "execution_count": 42,
   "metadata": {},
   "outputs": [],
   "source": [
    "# Import the libraries required for the notebook\n",
    "import asyncio\n",
    "\n",
    "# Instatiate the config class\n",
    "import sys\n",
    "sys.path.append('..')\n",
    "from config.notebook_config import *\n",
    "config = notebook_config()\n",
    "# Load config from file\n",
    "config.load_config_from_file()\n"
   ]
  },
  {
   "cell_type": "markdown",
   "metadata": {},
   "source": [
    "### Step 2\n",
    "\n",
    "Load the data from a Word file, and store it in a data dictionary.\n",
    "\n",
    "Replace filename by the fullpath to the Word file."
   ]
  },
  {
   "cell_type": "code",
   "execution_count": 43,
   "metadata": {},
   "outputs": [
    {
     "name": "stdout",
     "output_type": "stream",
     "text": [
      "Found 23 sessions\n",
      "0: Health data applied to rare diseases: review of the national plan for rare diseases 3 and prospects for the national plan for rare diseases 4 in 2024. Anne-Sophie LAPOINTE (France)\n",
      "1: PNDS or Rett center. Nadia BAHI-BUISSON (France)\n",
      "2: Planning for the future. Rett Syndrome Europe (RSE). Rebecca JENNER (Royaume-Uni)\n",
      "3: Trofinetide for the Treatment of Rett Syndrome \n",
      "4: NEAT1 dysregulation in Rett Syndrome: unveiling pathological mechanisms and therapeutic potential\n",
      "5: Being a parent of an individual with rett syndrome in a lifelong perspective: a qualitative study of the parents experiences.\n",
      "6: Gene discovery to clinical trials : How clinical and basic research have intersected to develop and test new therapies for Rett syndrome. Jeffrey NEUL (Etats-Unis)\n",
      "7: Epilepsy and Rett. Mathieu MILH (Marseille)\n",
      "8: Dysautonomia and Erratic Breathing in Rett Syndrome. Jan-Marino RAMIREZ (Etats-Unis)\n",
      "9: Disturbances in breathing and sleep: a state of the art. Karen SPRUYT (France)\n",
      "10: Medical and physical follow-up of adults with Rett syndrome; Experiences from a national Rett center. Anne-Marie BISGAARD (Danemark)\n",
      "11: Summary day 1:\n",
      "12: Neural precursor cell therapy rescues pathological signs of Rett syndrome. Nicoletta LANDSBERGER (Italie)\n",
      "13: Genetic and epigenetic determinants of reactivation of Mecp2 and the inactive X chromosome in neural stem cells. Joost GRIBNEAU (Pays-Bas)\n",
      "14: Physical therapy. Meir LOTAN (Israël)\n",
      "15: Motricity. Meir LOTAN (Israël)\n",
      "16: Rett Communication Guidelines. Gillian TOWNEND (Royaume-Uni)\n",
      "17: Speech therapy interventions and Alternative and Augmentative Communication (AAC) in Rett syndrome. Stéphane JULLIEN (Suisse)\n",
      "18: AAC in Rett syndrome. Anne-Laure ZILIOX (France), Maryline POUEYTO (France)\n",
      "19: Advanced technologies for cognitive and motor telerehabilitation in Rett Syndrome: Amelie and Tele-Airett. Martina SEMINO (Italy), Michela PERINA (Italy)\n",
      "20: Nutrition and Rett syndrome. Laure SOULEZ-LARIVIERE (France)\n",
      "21: Orality and Rett syndrome. Laure SOULEZ-LARIVIERE (France)\n",
      "22: Summary:\n",
      "1st session: Health data applied to rare diseases: review of the national plan for rare diseases 3 and prospects for the national plan for rare diseases 4 in 2024. Anne-Sophie LAPOINTE (France)\n",
      "1st content: Context of rare diseases, obstacles: diagnostic error, limited information, geographic dispersion, access to treatment.\n",
      "France had 3 rare disease plans so far. Third one being holistic, with care throughout the life span. 3rd plan is coming to the end now which had various ambitions: enable rapid diagnosis, innovate to treat, improving quality of life and autonomy of patients, structuring of date, (have a photo) etc… Guide, coordinate, share. \n",
      "France also has care guidelines for rett syndrome (only mentioned it).\n",
      "All speech is more orientated for rare diseases in general rather than RS.\n",
      "Spain has two ERNs: ERN EpiCARE and ERN Transplant??\n",
      "BNDMR – the French national rare disease registry data (photo) www.bndmr.fr \n",
      "Plan 4: Focus on actions for neonatal screening, Innovations and treatments…\n",
      "\n",
      "\n"
     ]
    }
   ],
   "source": [
    "# Open the Word document\n",
    "from docx import Document\n",
    "filename = \"C://Users//perocha//OneDrive//Meile//RETT//2023 Marseille//7th European Rett Syndrome Conference.docx\"\n",
    "if not os.path.exists(filename):\n",
    "    raise FileNotFoundError(f\"File not found at {filename}\")\n",
    "document = Document(filename)\n",
    "\n",
    "# Initialize an empty list for sessions and a None for the current session\n",
    "sessions = []\n",
    "current_session = None\n",
    "current_session_content = \"\"\n",
    "\n",
    "# Iterate through paragraphs and group content by \"Heading 2\"\n",
    "for paragraph in document.paragraphs:\n",
    "    if paragraph.style.style_id == \"Heading2\":\n",
    "        # If there is a current session, append it to the sessions list\n",
    "        if current_session is not None:\n",
    "            current_session[\"content\"] = current_session_content\n",
    "            sessions.append(current_session)\n",
    "        # Start a new session with the current paragraph as the title\n",
    "        current_session = {\"title\": paragraph.text, \"content\": \"\"}\n",
    "        current_session_content = \"\"\n",
    "    else:\n",
    "        # If there is a current session, append the paragraph to its content\n",
    "        if current_session is not None:\n",
    "            current_session_content += paragraph.text + \"\\n\"\n",
    "\n",
    "# Append the last session if it exists\n",
    "if current_session is not None:\n",
    "    current_session[\"content\"] = current_session_content\n",
    "    sessions.append(current_session)\n",
    "\n",
    "\n",
    "print(f\"Found {len(sessions)} sessions\")\n",
    "# Print the header of each session (and the index)\n",
    "for i, session in enumerate(sessions):\n",
    "    print(f\"{i}: {session['title']}\")\n",
    "\n",
    "# Print the content of the first session\n",
    "print(f\"1st session: {sessions[0]['title']}\")\n",
    "print(f\"1st content: {sessions[0]['content']}\")\n"
   ]
  },
  {
   "cell_type": "markdown",
   "metadata": {},
   "source": [
    "### Step 3\n",
    "\n",
    "Initiate the Semantic Kernel and fire-up with OpenAI model."
   ]
  },
  {
   "cell_type": "code",
   "execution_count": 44,
   "metadata": {},
   "outputs": [
    {
     "name": "stdout",
     "output_type": "stream",
     "text": [
      "Kernel loaded.\n",
      "Fire-up the kernel with gpt-35-turbo\n"
     ]
    }
   ],
   "source": [
    "# Load Semantic Kernel\n",
    "import semantic_kernel\n",
    "import semantic_kernel as sk\n",
    "from semantic_kernel.connectors.ai.open_ai import AzureChatCompletion\n",
    "\n",
    "kernel = semantic_kernel.Kernel()\n",
    "print(\"Kernel loaded.\")\n",
    "\n",
    "deployment = config.model\n",
    "endpoint = config.endpoint\n",
    "api_key = config.azure_api_key\n",
    "kernel.add_chat_service(\"dv\", AzureChatCompletion(deployment, endpoint, api_key))\n",
    "print(f\"Fire-up the kernel with {deployment}\")"
   ]
  },
  {
   "cell_type": "markdown",
   "metadata": {},
   "source": [
    "### Step 4\n",
    "\n",
    "Load plug-ins required to curate the congress notes."
   ]
  },
  {
   "cell_type": "code",
   "execution_count": 45,
   "metadata": {},
   "outputs": [
    {
     "name": "stdout",
     "output_type": "stream",
     "text": [
      "Plugins loaded.\n"
     ]
    }
   ],
   "source": [
    "plugins_directory = \"../plugins-sk\"\n",
    "\n",
    "# Import the semantic functions\n",
    "my_functions = kernel.import_semantic_skill_from_directory(plugins_directory, \"CreateReport\")\n",
    "\n",
    "print(\"Plugins loaded.\")"
   ]
  },
  {
   "cell_type": "markdown",
   "metadata": {},
   "source": [
    "### Step 5\n",
    "\n",
    "Execute the \"curation\" process:\n",
    "* First it will replace abbreviations and acronyms by their full meaning\n",
    "* Then it will summarize the notes\n",
    "* It will then extract the key concepts, in a report format\n",
    "* Finally it will translate to Spanish"
   ]
  },
  {
   "cell_type": "code",
   "execution_count": 46,
   "metadata": {},
   "outputs": [
    {
     "name": "stdout",
     "output_type": "stream",
     "text": [
      "Input string: Mouse model that they use was created by adrian bird few years ago. It has both male and famale mice models. They mainly use male mice because the symptoms are very robust, very expressed, but then they also need to confirm with females which is more complex but recreates human situation better. \n",
      "Did MRI for animal models looking for possible biomarkers (3 times in their lifespan). The brain defect is there before the symtoms are visible, all the regions of the brain are affected, some reagions a bit more than other but they all are affected. \n",
      "If the brain volume is reduced, why? What is going on? We don´t know exactly why, but we know that the neurons are affected. The soma is smaller, dendrites are much reduced, and synapses buttons are also much reduced. The number of the cell is the same, but the problem is that neurons are smaller, less matured. \n",
      "What about molecular features? \n",
      "Neural Precursos Stem Cells transplantation:\n",
      "Experiment in vitro: Defect of neuronal structure (dendrites) were fully recovered with NPSC. Synaptic connection is also improved significantly. \n",
      "Experiment in mice: also good results, but temporary, you would need to do injections on regular basis...? increased life span by 20% and they looked clearly better. Although they did only one injection that waded off. It also improved resistance to physical activity (longer time on the spinning wheel). Also there are indications of cognitive function improvement. But this is all on male mice. In female mice they didn´t see good result in physic condition, but did see improvement in cognitive.\n",
      "Deciphering the molecular mechanisms set in motion by NPCs  trying to see if there are any molecules might substitute injecting stem cells, which might provide a cheaper option of the treatment that injecting actual stem cells. IFNgama might be of an interest to look into. So they went back to experiments and treated the cells in vitro with IFNgama and did see good results. In animal models only injected once. It got improvement on both physical and cognitive abilities. No benefits were identified in breathing. It is not clear yet if the results qwould be more robust with repetition of threatment. \n",
      "NPC use is very complex and expensive but might give us good insights and ideas for new molecules that can be used \n",
      "for treatment.\n",
      "\n",
      "\n",
      "- The mouse model used in the study was created by Adrian Bird a few years ago and includes both male and female mice.\n",
      "- Male mice are mainly used because their symptoms are more robust and expressed, but confirmation with female mice is necessary for a better recreation of the human situation.\n",
      "- MRI scans of the animal models were conducted three times throughout their lifespan, revealing that the brain defect is present before symptoms are visible and affects all regions of the brain.\n",
      "- The reason for reduced brain volume is not known exactly, but it is known that the neurons are affected, with smaller soma, reduced dendrites, and fewer synapse buttons.\n",
      "- Neural Precursor Stem Cells (NPSC) transplantation experiments showed that defects in neuronal structure and synaptic connections were fully recovered in vitro and had good results in mice, although the effects were temporary and required regular injections.\n",
      "- NPSC transplantation increased lifespan by 20% and improved physical activity and cognitive function in male mice, but results were not as good in female mice.\n",
      "- Research is being done to identify molecules that could substitute injecting stem cells, with IFNgama showing promising results in vitro and in animal models.\n",
      "- Treatment with IFNgama improved physical and cognitive abilities in animal models, but no benefits were observed in breathing.\n",
      "- It is unclear if the results would be more robust with repeated treatment.\n",
      "- NPC use is complex and expensive but can provide insights and ideas for new molecules for treatment.\n",
      "\n",
      "Areas that need clarification:\n",
      "- It is not clear why the brain defect occurs before symptoms are visible.\n",
      "- The reason for reduced brain volume is not known exactly.\n",
      "- The results of NPSC transplantation in female mice are not specified.\n",
      "- The specific improvements in physical and cognitive abilities with IFNgama treatment are not detailed.\n",
      "- The potential benefits of repeated treatment with IFNgama are not discussed.\n",
      "Abbreviations expansion result:\n",
      "- The mouse model used in the study was created by Adrian Bird a few years ago and includes both male and female mice.\n",
      "- Male mice are mainly used because their symptoms are more robust and expressed, but confirmation with female mice is necessary for a better recreation of the human situation.\n",
      "- Magnetic Resonance Imaging (MRI) scans of the animal models were conducted three times throughout their lifespan, revealing that the brain defect is present before symptoms are visible and affects all regions of the brain.\n",
      "- The reason for reduced brain volume is not known exactly, but it is known that the neurons are affected, with smaller soma, reduced dendrites, and fewer synapse buttons.\n",
      "- Neural Precursor Stem Cells (NPSC) transplantation experiments showed that defects in neuronal structure and synaptic connections were fully recovered in vitro and had good results in mice, although the effects were temporary and required regular injections.\n",
      "- NPSC transplantation increased lifespan by 20% and improved physical activity and cognitive function in male mice, but results were not as good in female mice.\n",
      "- Research is being done to identify molecules that could substitute injecting stem cells, with Interferon Gamma (IFNgama) showing promising results in vitro and in animal models.\n",
      "- Treatment with IFNgama improved physical and cognitive abilities in animal models, but no benefits were observed in breathing.\n",
      "- It is unclear if the results would be more robust with repeated treatment.\n",
      "- Neural Precursor Cells (NPC) use is complex and expensive but can provide insights and ideas for new molecules for treatment.\n",
      "\n",
      "Areas that need clarification:\n",
      "- It is not clear why the brain defect occurs before symptoms are visible.\n",
      "- The reason for reduced brain volume is not known exactly.\n",
      "- The results of NPSC transplantation in female mice are not specified.\n",
      "- The specific improvements in physical and cognitive abilities with IFNgama treatment are not detailed.\n",
      "- The potential benefits of repeated treatment with IFNgama are not discussed.\n",
      "Report result:\n",
      "In this session, the speaker discussed a mouse model that was created by Adrian Bird for a study on a brain defect. The model includes both male and female mice, although male mice are primarily used due to their more robust symptoms. However, it is important to confirm the findings with female mice to better recreate the human situation.\n",
      "\n",
      "The speaker mentioned that Magnetic Resonance Imaging (MRI) scans were conducted on the animal models three times throughout their lifespan. These scans revealed that the brain defect is present before symptoms are visible and affects all regions of the brain. The exact reason for the reduced brain volume is unknown, but it is known that the neurons are affected, with smaller soma, reduced dendrites, and fewer synapse buttons.\n",
      "\n",
      "The speaker discussed Neural Precursor Stem Cells (NPSC) transplantation experiments, which showed that defects in neuronal structure and synaptic connections were fully recovered in vitro and had positive results in mice. However, the effects were temporary and required regular injections. NPSC transplantation increased lifespan by 20% and improved physical activity and cognitive function in male mice, but the results were not as good in female mice.\n",
      "\n",
      "The speaker mentioned ongoing research to identify molecules that could replace the need for injecting stem cells. Interferon Gamma (IFNgama) showed promising results in vitro and in animal models. Treatment with IFNgama improved physical and cognitive abilities in the animal models, although no benefits were observed in breathing. It is unclear if the results would be more robust with repeated treatment.\n",
      "\n",
      "The speaker noted that the use of Neural Precursor Cells (NPC) is complex and expensive but can provide insights and ideas for new molecules for treatment.\n",
      "\n",
      "Areas that need clarification include the reasons for the brain defect occurring before symptoms are visible, the exact reason for reduced brain volume, the results of NPSC transplantation in female mice, the specific improvements in physical and cognitive abilities with IFNgama treatment, and the potential benefits of repeated treatment with IFNgama.\n",
      "Translate result:\n",
      "En esta sesión, el orador discutió un modelo de ratón que fue creado por Adrian Bird para un estudio sobre un defecto cerebral. El modelo incluye tanto ratones machos como hembras, aunque los ratones machos se utilizan principalmente debido a sus síntomas más robustos. Sin embargo, es importante confirmar los hallazgos con ratones hembras para recrear mejor la situación humana.\n",
      "\n",
      "El orador mencionó que se realizaron escaneos de Resonancia Magnética (MRI) en los modelos animales tres veces a lo largo de su vida. Estos escaneos revelaron que el defecto cerebral está presente antes de que los síntomas sean visibles y afecta a todas las regiones del cerebro. La razón exacta de la reducción del volumen cerebral es desconocida, pero se sabe que los neuronas se ven afectadas, con soma más pequeños, dendritas reducidas y menos botones sinápticos.\n",
      "\n",
      "El orador discutió experimentos de trasplante de Células Madre Precursoras Neuronales (NPSC), que mostraron que los defectos en la estructura neuronal y las conexiones sinápticas se recuperaron por completo in vitro y tuvieron resultados positivos en ratones. Sin embargo, los efectos fueron temporales y requirieron inyecciones regulares. El trasplante de NPSC aumentó la esperanza de vida en un 20% y mejoró la actividad física y la función cognitiva en ratones machos, pero los resultados no fueron tan buenos en ratones hembras.\n",
      "\n",
      "El orador mencionó una investigación en curso para identificar moléculas que podrían reemplazar la necesidad de inyectar células madre. El Interferón Gamma (IFNgama) mostró resultados prometedores in vitro y en modelos animales. El tratamiento con IFNgama mejoró las habilidades físicas y cognitivas en los modelos animales, aunque no se observaron beneficios en la respiración. No está claro si los resultados serían más robustos con un tratamiento repetido.\n",
      "\n",
      "El orador señaló que el uso de Células Precursoras Neuronales (NPC) es complejo y costoso, pero puede proporcionar ideas y conocimientos sobre nuevas moléculas para el tratamiento.\n",
      "\n",
      "Las áreas que necesitan aclaración incluyen las razones por las que el defecto cerebral ocurre antes de que los síntomas sean visibles, la razón exacta de la reducción del volumen cerebral, los resultados del trasplante de NPSC en ratones hembras, las mejoras específicas en las habilidades físicas y cognitivas con el tratamiento de IFNgama y los posibles beneficios del tratamiento repetido con IFNgama.\n"
     ]
    }
   ],
   "source": [
    "from semantic_kernel import ContextVariables\n",
    "\n",
    "session_id = 12\n",
    "input_str = sessions[session_id][\"content\"]\n",
    "print(f\"Input string: {input_str}\")\n",
    "\n",
    "# Review notes from the previous step, and summarize the notes\n",
    "step1 = asyncio.create_task(kernel.run_async(my_functions[\"NoteReview\"], input_str=input_str))\n",
    "step1_result = await step1\n",
    "\n",
    "print(step1_result.result)\n",
    "\n",
    "# If the initial notes are not good enough, terminate the process\n",
    "if step1_result.result == \"TERMINATE PROCESS\":\n",
    "    print(\"Process terminated\")\n",
    "else:\n",
    "    # Replace abbreviations and acronyms from the input text\n",
    "    step2 = asyncio.create_task(kernel.run_async(my_functions[\"AbbreviationExpansion\"], input_str=step1_result.result))\n",
    "    step2_result = await step2\n",
    "    print(\"Abbreviations expansion result:\")\n",
    "    print(step2_result.result)\n",
    "\n",
    "    # Create the final session report, after the previous steps\n",
    "    step3 = asyncio.create_task(kernel.run_async(my_functions[\"Summarize\"], input_str=step2_result.result))\n",
    "    step3_result = await step3\n",
    "    print(\"Report result:\")\n",
    "    print(step3_result.result)\n",
    "\n",
    "    # Translate to Spanish\n",
    "    context = ContextVariables()\n",
    "    context[\"language\"] = \"spanish\"\n",
    "    context[\"input\"] = step3_result.result\n",
    "    translate = asyncio.create_task(kernel.run_async(my_functions[\"TranslateNotes\"], input_vars=context))\n",
    "    translate_result = await translate\n",
    "    print(\"Translate result:\")\n",
    "    print(translate_result)"
   ]
  },
  {
   "cell_type": "markdown",
   "metadata": {},
   "source": [
    "### Step 6\n",
    "\n",
    "Repeat the previous step for the full document and save the document as output."
   ]
  },
  {
   "cell_type": "code",
   "execution_count": 47,
   "metadata": {},
   "outputs": [
    {
     "name": "stdout",
     "output_type": "stream",
     "text": [
      "Processing session: Health data applied to rare diseases: review of the national plan for rare diseases 3 and prospects for the national plan for rare diseases 4 in 2024. Anne-Sophie LAPOINTE (France)\n",
      "Processing session: PNDS or Rett center. Nadia BAHI-BUISSON (France)\n",
      "Processing session: Planning for the future. Rett Syndrome Europe (RSE). Rebecca JENNER (Royaume-Uni)\n",
      "Processing session: Trofinetide for the Treatment of Rett Syndrome \n",
      "Processing session: NEAT1 dysregulation in Rett Syndrome: unveiling pathological mechanisms and therapeutic potential\n",
      "Processing session: Being a parent of an individual with rett syndrome in a lifelong perspective: a qualitative study of the parents experiences.\n",
      "Processing session: Gene discovery to clinical trials : How clinical and basic research have intersected to develop and test new therapies for Rett syndrome. Jeffrey NEUL (Etats-Unis)\n",
      "Processing session: Epilepsy and Rett. Mathieu MILH (Marseille)\n",
      "Processing session: Dysautonomia and Erratic Breathing in Rett Syndrome. Jan-Marino RAMIREZ (Etats-Unis)\n",
      "Processing session: Disturbances in breathing and sleep: a state of the art. Karen SPRUYT (France)\n",
      "Processing session: Medical and physical follow-up of adults with Rett syndrome; Experiences from a national Rett center. Anne-Marie BISGAARD (Danemark)\n",
      "Processing session: Summary day 1:\n",
      "Processing session: Neural precursor cell therapy rescues pathological signs of Rett syndrome. Nicoletta LANDSBERGER (Italie)\n",
      "Processing session: Genetic and epigenetic determinants of reactivation of Mecp2 and the inactive X chromosome in neural stem cells. Joost GRIBNEAU (Pays-Bas)\n",
      "Processing session: Physical therapy. Meir LOTAN (Israël)\n",
      "Processing session: Motricity. Meir LOTAN (Israël)\n",
      "Process terminated\n",
      "Processing session: Rett Communication Guidelines. Gillian TOWNEND (Royaume-Uni)\n",
      "Processing session: Speech therapy interventions and Alternative and Augmentative Communication (AAC) in Rett syndrome. Stéphane JULLIEN (Suisse)\n",
      "Processing session: AAC in Rett syndrome. Anne-Laure ZILIOX (France), Maryline POUEYTO (France)\n",
      "Processing session: Advanced technologies for cognitive and motor telerehabilitation in Rett Syndrome: Amelie and Tele-Airett. Martina SEMINO (Italy), Michela PERINA (Italy)\n",
      "Process terminated\n",
      "Processing session: Nutrition and Rett syndrome. Laure SOULEZ-LARIVIERE (France)\n",
      "Process terminated\n",
      "Processing session: Orality and Rett syndrome. Laure SOULEZ-LARIVIERE (France)\n",
      "Process terminated\n",
      "Processing session: Summary:\n"
     ]
    }
   ],
   "source": [
    "output_result = []\n",
    "\n",
    "for session in sessions:\n",
    "    input_str = session[\"content\"]\n",
    "\n",
    "    print(f\"Processing session: {session['title']}\")\n",
    "\n",
    "    # Replace abbreviations and acronyms from the input text\n",
    "    step1 = asyncio.create_task(kernel.run_async(my_functions[\"NoteReview\"], input_str=input_str))\n",
    "    step1_result = await step1\n",
    "\n",
    "    if step1_result.result == \"TERMINATE PROCESS\":\n",
    "        print(\"Process terminated\")\n",
    "        output_result.append({\"title\": session[\"title\"], \"content\": \"No notes available\"})\n",
    "    else:\n",
    "        # Review notes from the previous step, and summarize the notes\n",
    "        step2 = asyncio.create_task(kernel.run_async(my_functions[\"AbbreviationExpansion\"], input_str=step1_result.result))\n",
    "        step2_result = await step2\n",
    "\n",
    "        # Create the final session report, after the previous steps\n",
    "        step3 = asyncio.create_task(kernel.run_async(my_functions[\"Summarize\"], input_str=step2_result.result))\n",
    "        step3_result = await step3\n",
    "\n",
    "        # Translate to Spanish\n",
    "        context = ContextVariables()\n",
    "        context[\"language\"] = \"spanish\"\n",
    "        context[\"input\"] = step3_result.result\n",
    "        translate = asyncio.create_task(kernel.run_async(my_functions[\"TranslateNotes\"], input_vars=context))\n",
    "        translate_result = await translate\n",
    "\n",
    "        output_result.append({\"title\": session[\"title\"], \"content\": translate_result.result})\n",
    "\n",
    "    # Save the output to a Word document\n",
    "    output_document = Document()\n",
    "\n",
    "for session in output_result:\n",
    "    output_document.add_heading(session[\"title\"], level=1)\n",
    "    output_document.add_paragraph(session[\"content\"])\n",
    "\n",
    "output_document.save(\"output.docx\")"
   ]
  }
 ],
 "metadata": {
  "kernelspec": {
   "display_name": "Python 3",
   "language": "python",
   "name": "python3"
  },
  "language_info": {
   "codemirror_mode": {
    "name": "ipython",
    "version": 3
   },
   "file_extension": ".py",
   "mimetype": "text/x-python",
   "name": "python",
   "nbconvert_exporter": "python",
   "pygments_lexer": "ipython3",
   "version": "3.11.2"
  }
 },
 "nbformat": 4,
 "nbformat_minor": 2
}
