{
 "cells": [
  {
   "cell_type": "markdown",
   "metadata": {},
   "source": [
    "### Step 1\n",
    "\n",
    "Initialize the notebook, loading the configuration and importing libraries."
   ]
  },
  {
   "cell_type": "code",
   "execution_count": 95,
   "metadata": {},
   "outputs": [],
   "source": [
    "# Import the libraries required for the notebook\n",
    "import asyncio\n",
    "\n",
    "# Instatiate the config class\n",
    "import sys\n",
    "sys.path.append(\"../config\")\n",
    "from notebook_config import notebook_config\n",
    "config = notebook_config()\n",
    "# Load config from file\n",
    "config.load_config_from_file()\n"
   ]
  },
  {
   "cell_type": "markdown",
   "metadata": {},
   "source": [
    "### Step 2\n",
    "\n",
    "Load the data from a Word file, and store it in a data dictionary.\n",
    "\n",
    "Replace filename by the fullpath to the Word file."
   ]
  },
  {
   "cell_type": "code",
   "execution_count": 96,
   "metadata": {},
   "outputs": [
    {
     "name": "stdout",
     "output_type": "stream",
     "text": [
      "Found 2 sessions\n",
      "1st session: Health data applied to rare diseases: review of the national plan for rare diseases 3 and prospects for the national plan for rare diseases 4 in 2024. Anne-Sophie LAPOINTE (France)\n",
      "1st content: Context of rare diseases, obstacles: diagnostic error, limited information, geographic dispersion, access to treatment.\n",
      "France had 3 rare disease plans so far. Third one being holistic, with care throughout the life span. 3rd plan is coming to the end now which had various ambitions: enable rapid diagnosis, innovate to treat, improving quality of life and autonomy of patients, structuring of date, (have a photo) etc… Guide, coordinate, share. \n",
      "France also has care guidelines for rett syndrome (only mentioned it).\n",
      "All speech is more orientated for rare diseases in general rather than RS.\n",
      "Spain has two ERNs: ERN EpiCARE and ERN Transplant??\n",
      "BNDMR – the French national rare disease registry data (photo) www.bndmr.fr \n",
      "Plan 4: Focus on actions for neonatal screening, Innovations and treatments…\n",
      "\n",
      "\n"
     ]
    }
   ],
   "source": [
    "# Open the Word document\n",
    "from docx import Document\n",
    "filename = \"example.docx\"\n",
    "document = Document(filename)\n",
    "\n",
    "# Initialize an empty list for sessions and a None for the current session\n",
    "sessions = []\n",
    "current_session = None\n",
    "current_session_content = \"\"\n",
    "\n",
    "# Iterate through paragraphs and group content by \"Heading 2\"\n",
    "for paragraph in document.paragraphs:\n",
    "    if paragraph.style.style_id == \"Heading2\":\n",
    "        # If there is a current session, append it to the sessions list\n",
    "        if current_session is not None:\n",
    "            current_session[\"content\"] = current_session_content\n",
    "            sessions.append(current_session)\n",
    "        # Start a new session with the current paragraph as the title\n",
    "        current_session = {\"title\": paragraph.text, \"content\": \"\"}\n",
    "        current_session_content = \"\"\n",
    "    else:\n",
    "        # If there is a current session, append the paragraph to its content\n",
    "        if current_session is not None:\n",
    "            current_session_content += paragraph.text + \"\\n\"\n",
    "\n",
    "# Append the last session if it exists\n",
    "if current_session is not None:\n",
    "    current_session[\"content\"] = current_session_content\n",
    "    sessions.append(current_session)\n",
    "\n",
    "\n",
    "print(f\"Found {len(sessions)} sessions\")\n",
    "print(f\"1st session: {sessions[0]['title']}\")\n",
    "print(f\"1st content: {sessions[0]['content']}\")\n"
   ]
  },
  {
   "cell_type": "markdown",
   "metadata": {},
   "source": [
    "### Step 3\n",
    "\n",
    "Initiate the Semantic Kernel and fire-up with OpenAI model."
   ]
  },
  {
   "cell_type": "code",
   "execution_count": 97,
   "metadata": {},
   "outputs": [
    {
     "name": "stdout",
     "output_type": "stream",
     "text": [
      "Kernel loaded.\n",
      "Fire-up the kernel with gpt-35-turbo\n"
     ]
    }
   ],
   "source": [
    "# Load Semantic Kernel\n",
    "import semantic_kernel\n",
    "import semantic_kernel as sk\n",
    "from semantic_kernel.connectors.ai.open_ai import AzureChatCompletion\n",
    "\n",
    "kernel = semantic_kernel.Kernel()\n",
    "print(\"Kernel loaded.\")\n",
    "\n",
    "deployment = config.model\n",
    "endpoint = config.endpoint\n",
    "api_key = config.azure_api_key\n",
    "kernel.add_chat_service(\"dv\", AzureChatCompletion(deployment, endpoint, api_key))\n",
    "print(f\"Fire-up the kernel with {deployment}\")"
   ]
  },
  {
   "cell_type": "markdown",
   "metadata": {},
   "source": [
    "### Step 4\n",
    "\n",
    "Load plug-ins required to curate the congress notes."
   ]
  },
  {
   "cell_type": "code",
   "execution_count": 98,
   "metadata": {},
   "outputs": [
    {
     "name": "stdout",
     "output_type": "stream",
     "text": [
      "Plugins loaded.\n"
     ]
    }
   ],
   "source": [
    "plugins_directory = \"../plugins-sk\"\n",
    "\n",
    "# Import the semantic functions\n",
    "my_functions = kernel.import_semantic_skill_from_directory(plugins_directory, \"CreateReport\")\n",
    "\n",
    "print(\"Plugins loaded.\")"
   ]
  },
  {
   "cell_type": "markdown",
   "metadata": {},
   "source": [
    "### Step 5\n",
    "\n",
    "Execute the \"curation\" process:\n",
    "* First it will replace abbreviations and acronyms by their full meaning\n",
    "* Then it will summarize the notes\n",
    "* It will then extract the key concepts, in a report format\n",
    "* Finally it will translate to Spanish"
   ]
  },
  {
   "cell_type": "code",
   "execution_count": 99,
   "metadata": {},
   "outputs": [
    {
     "name": "stdout",
     "output_type": "stream",
     "text": [
      "Input string: National diagnostics protocol (PNDS). Was created bases on the extensive literature review and with a group of experts. \n",
      "Role of general practitioner. They need to be the heart of the treatment plan. They need to be able to redirect for specialists that rs patients need depending on their phenotype. Which ones are really needed and which ones are optional. \n",
      "Take into account puberty and change into adult life. It´s important to screen comorbidity and detect it early, to optimize their development, treat comorbidity and prevent situations of emergency. \n",
      "Graphic of the revisions (medical).\n",
      "Provides recommendations for certain problems, like motricity, respiratory disorders, etc.\n",
      "Breathing problems don´t have treatment (except sleep apnea). The aim of general practitionnaire is to detect these sleep apneas by poli and asses nutritional impact. \n",
      "Cardiac problems: 15% of rett girls have prolongation of QTc and reduced heart pace. Avoid medications (fluoxetine is mentioned directly). Or care with anesthesia. \n",
      "Gastro problems. Abdominal pain, bloating. GP needs to know all of this. It produces reflux, irritability, bad sleep, burps, etc. \n",
      "They suggest common treatment for each comorbidity in their protocol. \n",
      "Undernurishment. There are rett specific curves of growth (motil et al Pediatr Gastr Nutr 55:292 (2012). Gastrostomy if necessary. If the feeding takes longer than 30 minutes per meal then you should look into solutions, look for a eating, a dietary plan. Parents usually like that their girls chew, that they enjoy food, but you need to consider if she gets enough food because chewing is tireing. And why does she not swallow? Is she afraid, is there a physiological problem, are they chocking, are they coughing, etc. there´s a risk for lungs as well in the inhale food. \n",
      "Osteopenia. Its very common for complex disabilities and even more so if there is undernutrition. Increase vitamin d, calcium.\n",
      "Scoliosis. 80% have it over 35 years. Regular revisions. Many need surgery. \n",
      "Orthopedic problems. Hip dislocations are common, need to review systematically the joints. Train parents how to live with these problems because physio once a week is not enough, parents need to know how to relax and move joints. This could prevent some surgical interventions.\n",
      "Gynecological revisions. Periods are usually irregular, premature menstruations are common, regulation of period with medication is a sensitive topic because it can affect also the bones…? \n",
      "Frequent commodities (list with percentages)\n",
      "Rett Centers. They try to meet what parents see as most important for their child: communication, control of epilepsy, use of hands, walking, sleep, breathing, bowl movement. Thus, the objectives: developing enhanced treatment in multidisciplinary approach. It´s a “team sport”. It´s not enough to visit separate doctors, they need to gather together and coordinate with one being a lead. Its important to gather together and ask questions together to the patient, not separately. \n",
      "Today there is no rett center really that exist in France. It’s a polihandicap center… ?\n",
      "\n",
      "\n"
     ]
    },
    {
     "name": "stdout",
     "output_type": "stream",
     "text": [
      "Abbreviations expansion result:\n",
      "National diagnostics protocol (PNDS). Was created bases on the extensive literature review and with a group of experts. \n",
      "Role of general practitioner. They need to be the heart of the treatment plan. They need to be able to redirect for specialists that Rett Syndrome patients need depending on their phenotype. Which ones are really needed and which ones are optional. \n",
      "Take into account puberty and change into adult life. It´s important to screen comorbidity and detect it early, to optimize their development, treat comorbidity and prevent situations of emergency. \n",
      "Graphic of the revisions (medical).\n",
      "Provides recommendations for certain problems, like motricity, respiratory disorders, etc.\n",
      "Breathing problems don´t have treatment (except sleep apnea). The aim of general practitionnaire is to detect these sleep apneas by poli and asses nutritional impact. \n",
      "Cardiac problems: 15% of Rett Syndrome girls have prolongation of QTc and reduced heart pace. Avoid medications (fluoxetine is mentioned directly). Or care with anesthesia. \n",
      "Gastro problems. Abdominal pain, bloating. General practitioner needs to know all of this. It produces reflux, irritability, bad sleep, burps, etc. \n",
      "They suggest common treatment for each comorbidity in their protocol. \n",
      "Undernurishment. There are Rett Syndrome specific curves of growth (motil et al Pediatr Gastr Nutr 55:292 (2012). Gastrostomy if necessary. If the feeding takes longer than 30 minutes per meal then you should look into solutions, look for a eating, a dietary plan. Parents usually like that their girls chew, that they enjoy food, but you need to consider if she gets enough food because chewing is tireing. And why does she not swallow? Is she afraid, is there a physiological problem, are they chocking, are they coughing, etc. there´s a risk for lungs as well in the inhale food. \n",
      "Osteopenia. Its very common for complex disabilities and even more so if there is undernutrition. Increase vitamin d, calcium.\n",
      "Scoliosis. 80% have it over 35 years. Regular revisions. Many need surgery. \n",
      "Orthopedic problems. Hip dislocations are common, need to review systematically the joints. Train parents how to live with these problems because physio once a week is not enough, parents need to know how to relax and move joints. This could prevent some surgical interventions.\n",
      "Gynecological revisions. Periods are usually irregular, premature menstruations are common, regulation of period with medication is a sensitive topic because it can affect also the bones…? \n",
      "Frequent commodities (list with percentages)\n",
      "Rett Centers. They try to meet what parents see as most important for their child: communication, control of epilepsy, use of hands, walking, sleep, breathing, bowl movement. Thus, the objectives: developing enhanced treatment in multidisciplinary approach. It´s a “team sport”. It´s not enough to visit separate doctors, they need to gather together and coordinate with one being a lead. Its important to gather together and ask questions together to the patient, not separately. \n",
      "Today there is no Rett Center really that exist in France. It’s a polihandicap center… ?\n",
      "Report result:\n",
      "The session focused on the National diagnostics protocol (PNDS) for Rett Syndrome, which was created based on an extensive literature review and input from experts. The role of general practitioners in the treatment plan was emphasized, as they need to be able to identify the specialists that Rett Syndrome patients may need based on their specific phenotype. The importance of considering puberty and the transition into adult life was highlighted, as screening for comorbidities and early detection can optimize development, provide appropriate treatment, and prevent emergencies.\n",
      "\n",
      "The session provided a graphic of medical revisions and recommendations for various problems associated with Rett Syndrome, such as motor issues and respiratory disorders. Breathing problems, except for sleep apnea, do not have a specific treatment, so the aim for general practitioners is to detect sleep apnea through polysomnography and assess its nutritional impact. Cardiac problems were also discussed, with 15% of Rett Syndrome girls experiencing QTc prolongation and reduced heart pace. It was advised to avoid certain medications, such as fluoxetine, and to exercise caution with anesthesia.\n",
      "\n",
      "Gastrointestinal problems, including abdominal pain and bloating, were highlighted as important for general practitioners to be aware of. These issues can lead to reflux, irritability, poor sleep, and burping. The session recommended common treatments for each comorbidity in the PNDS protocol. Undernourishment was addressed, with specific growth curves for Rett Syndrome patients and the possibility of gastrostomy if necessary. The session emphasized the need to consider if chewing is tiring for the patient and if swallowing difficulties are present, as there is a risk of inhaling food into the lungs.\n",
      "\n",
      "Other topics covered included osteopenia, scoliosis, and orthopedic problems. Osteopenia is common in Rett Syndrome patients, especially if undernutrition is present, and increasing vitamin D and calcium intake was recommended. Scoliosis affects 80% of patients over 35 years old, and regular revisions and potential surgical interventions may be necessary. The importance of training parents on how to manage orthopedic problems and prevent surgical interventions through regular joint movements and relaxation techniques was emphasized.\n",
      "\n",
      "Gynecological revisions were also discussed, with irregular periods and premature menstruation being common in Rett Syndrome patients. The regulation of periods with medication was noted as a sensitive topic, as it can also affect bone health. The session provided a list of frequent comorbidities and highlighted the importance of Rett Centers in providing comprehensive and coordinated care. The objectives of Rett Centers include improving communication, epilepsy control, hand use, walking, sleep, and bowel movements. It was noted that there is currently no dedicated Rett Center in France, but rather a focus on polyhandicap centers.\n",
      "Translate result:\n",
      "La sesión se centró en el Protocolo Nacional de Diagnóstico (PNDS) para el Síndrome de Rett, el cual fue creado en base a una extensa revisión de literatura y aportes de expertos. Se enfatizó el papel de los médicos generales en el plan de tratamiento, ya que necesitan ser capaces de identificar a los especialistas que los pacientes con Síndrome de Rett pueden necesitar según su fenotipo específico. Se resaltó la importancia de considerar la pubertad y la transición a la vida adulta, ya que la detección temprana de comorbilidades y el desarrollo de un tratamiento adecuado pueden optimizar el desarrollo y prevenir emergencias.\n",
      "\n",
      "La sesión proporcionó un gráfico de revisiones médicas y recomendaciones para diversos problemas asociados con el Síndrome de Rett, como problemas motores y trastornos respiratorios. Los problemas respiratorios, excepto la apnea del sueño, no tienen un tratamiento específico, por lo que el objetivo para los médicos generales es detectar la apnea del sueño a través de la polisomnografía y evaluar su impacto nutricional. También se discutieron problemas cardíacos, con un 15% de las niñas con Síndrome de Rett experimentando prolongación del intervalo QTc y ritmo cardíaco reducido. Se recomendó evitar ciertos medicamentos, como la fluoxetina, y tener precaución con la anestesia.\n",
      "\n",
      "Se destacaron los problemas gastrointestinales, como el dolor abdominal y la distensión, como importantes para que los médicos generales estén conscientes. Estos problemas pueden llevar a reflujo, irritabilidad, mal sueño y eructos. La sesión recomendó tratamientos comunes para cada comorbilidad en el protocolo PNDS. Se abordó la desnutrición, con curvas de crecimiento específicas para pacientes con Síndrome de Rett y la posibilidad de gastrostomía si es necesario. Se enfatizó la necesidad de considerar si masticar es agotador para el paciente y si existen dificultades para tragar, ya que existe el riesgo de inhalar alimentos hacia los pulmones.\n",
      "\n",
      "Otros temas tratados incluyeron la osteopenia, la escoliosis y los problemas ortopédicos. La osteopenia es común en pacientes con Síndrome de Rett, especialmente si hay desnutrición, y se recomendó aumentar la ingesta de vitamina D y calcio. La escoliosis afecta al 80% de los pacientes mayores de 35 años, y pueden ser necesarias revisiones regulares e intervenciones quirúrgicas potenciales. Se enfatizó la importancia de capacitar a los padres sobre cómo manejar los problemas ortopédicos y prevenir intervenciones quirúrgicas a través de movimientos articulares regulares y técnicas de relajación.\n",
      "\n",
      "También se discutieron las revisiones ginecológicas, siendo comunes los períodos irregulares y la menstruación prematura en pacientes con Síndrome de Rett. Se señaló que la regulación de los períodos con medicación es un tema delicado, ya que también puede afectar la salud ósea. La sesión proporcionó una lista de comorbilidades frecuentes y resaltó la importancia de los Centros de Rett en brindar atención integral y coordinada. Los objetivos de los Centros de Rett incluyen mejorar la comunicación, el control de la epilepsia, el uso de las manos, la capacidad de caminar, el sueño y los movimientos intestinales. Se señaló que actualmente no hay un Centro de Rett dedicado en Francia, sino más bien un enfoque en los centros de polihandicap.\n"
     ]
    }
   ],
   "source": [
    "from semantic_kernel import ContextVariables\n",
    "\n",
    "session_id = 1\n",
    "input_str = sessions[session_id][\"content\"]\n",
    "print(f\"Input string: {input_str}\")\n",
    "\n",
    "# Replace abbreviations and acronyms from the input text\n",
    "abbreviations_expansion = asyncio.create_task(kernel.run_async(my_functions[\"AbbreviationExpansion\"], input_str=input_str))\n",
    "abbreviations_expansion_result = await abbreviations_expansion\n",
    "print(\"Abbreviations expansion result:\")\n",
    "print(abbreviations_expansion_result.result)\n",
    "\n",
    "# Review notes from the previous step, and summarize the notes\n",
    "note_review = asyncio.create_task(kernel.run_async(my_functions[\"NoteReview\"], input_str=abbreviations_expansion_result.result))\n",
    "note_review_result = await note_review\n",
    "\n",
    "# Create the final session report, after the previous steps\n",
    "report = asyncio.create_task(kernel.run_async(my_functions[\"Summarize\"], input_str=abbreviations_expansion_result.result))\n",
    "report_result = await report\n",
    "print(\"Report result:\")\n",
    "print(report_result)\n",
    "\n",
    "# Translate to Spanish\n",
    "context = ContextVariables()\n",
    "context[\"language\"] = \"spanish\"\n",
    "context[\"input\"] = report_result.result\n",
    "translate = asyncio.create_task(kernel.run_async(my_functions[\"TranslateNotes\"], input_vars=context))\n",
    "translate_result = await translate\n",
    "print(\"Translate result:\")\n",
    "print(translate_result)"
   ]
  },
  {
   "cell_type": "markdown",
   "metadata": {},
   "source": [
    "### Step 6\n",
    "\n",
    "Repeat the previous step for the full document and save the document as output."
   ]
  },
  {
   "cell_type": "code",
   "execution_count": 100,
   "metadata": {},
   "outputs": [
    {
     "name": "stdout",
     "output_type": "stream",
     "text": [
      "Processing session: Health data applied to rare diseases: review of the national plan for rare diseases 3 and prospects for the national plan for rare diseases 4 in 2024. Anne-Sophie LAPOINTE (France)\n",
      "Processing session: PNDS or Rett center. Nadia BAHI-BUISSON (France)\n"
     ]
    }
   ],
   "source": [
    "output_result = []\n",
    "\n",
    "for session in sessions:\n",
    "    input_str = session[\"content\"]\n",
    "\n",
    "    print(f\"Processing session: {session['title']}\")\n",
    "\n",
    "    # Replace abbreviations and acronyms from the input text\n",
    "    abbreviations_expansion = asyncio.create_task(kernel.run_async(my_functions[\"AbbreviationExpansion\"], input_str=input_str))\n",
    "    abbreviations_expansion_result = await abbreviations_expansion\n",
    "\n",
    "    # Review notes from the previous step, and summarize the notes\n",
    "    note_review = asyncio.create_task(kernel.run_async(my_functions[\"NoteReview\"], input_str=abbreviations_expansion_result.result))\n",
    "    note_review_result = await note_review\n",
    "\n",
    "    # Create the final session report, after the previous steps\n",
    "    report = asyncio.create_task(kernel.run_async(my_functions[\"Summarize\"], input_str=abbreviations_expansion_result.result))\n",
    "    report_result = await report\n",
    "\n",
    "    # Translate to Spanish\n",
    "    context = ContextVariables()\n",
    "    context[\"language\"] = \"spanish\"\n",
    "    context[\"input\"] = report_result.result\n",
    "    translate = asyncio.create_task(kernel.run_async(my_functions[\"TranslateNotes\"], input_vars=context))\n",
    "    translate_result = await translate\n",
    "\n",
    "    output_result.append({\"title\": session[\"title\"], \"content\": translate_result.result})\n",
    "\n",
    "# Save the output to a Word document\n",
    "output_document = Document()\n",
    "\n",
    "for session in output_result:\n",
    "    output_document.add_heading(session[\"title\"], level=1)\n",
    "    output_document.add_paragraph(session[\"content\"])\n",
    "\n",
    "output_document.save(\"output.docx\")"
   ]
  }
 ],
 "metadata": {
  "kernelspec": {
   "display_name": "Python 3",
   "language": "python",
   "name": "python3"
  },
  "language_info": {
   "codemirror_mode": {
    "name": "ipython",
    "version": 3
   },
   "file_extension": ".py",
   "mimetype": "text/x-python",
   "name": "python",
   "nbconvert_exporter": "python",
   "pygments_lexer": "ipython3",
   "version": "3.11.2"
  }
 },
 "nbformat": 4,
 "nbformat_minor": 2
}
