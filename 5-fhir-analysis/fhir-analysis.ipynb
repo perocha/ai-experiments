{
 "cells": [
  {
   "cell_type": "markdown",
   "metadata": {},
   "source": [
    "### Step 1\n",
    "\n",
    "Initialize the notebook, loading the configuration and importing libraries."
   ]
  },
  {
   "cell_type": "code",
   "execution_count": 1,
   "metadata": {},
   "outputs": [],
   "source": [
    "# Import the libraries required for the notebook\n",
    "import asyncio\n",
    "\n",
    "# Instatiate the config class\n",
    "import sys\n",
    "sys.path.append('..')\n",
    "from config.notebook_config import *\n",
    "config = notebook_config()\n",
    "# Load config from file\n",
    "config.load_config_from_file()\n"
   ]
  },
  {
   "cell_type": "markdown",
   "metadata": {},
   "source": [
    "### Step 2\n",
    "\n",
    "Load the data from a FHIR example, in json format."
   ]
  },
  {
   "cell_type": "code",
   "execution_count": 2,
   "metadata": {},
   "outputs": [
    {
     "name": "stdout",
     "output_type": "stream",
     "text": [
      "{\n",
      "    \"resourceType\": \"Patient\",\n",
      "    \"id\": \"example\",\n",
      "    \"text\": {\n",
      "        \"status\": \"generated\",\n",
      "        \"div\": \"<div xmlns=\\\"http://www.w3.org/1999/xhtml\\\"><p style=\\\"border: 1px #661aff solid; background-color: #e6e6ff; padding: 10px;\\\"><b>Jim </b> male, DoB: 1974-12-25 ( Medical record number: 12345\\u00a0(use:\\u00a0USUAL,\\u00a0period:\\u00a02001-05-06 --&gt; (ongoing)))</p><hr/><table class=\\\"grid\\\"><tr><td style=\\\"background-color: #f3f5da\\\" title=\\\"Record is active\\\">Active:</td><td>true</td><td style=\\\"background-color: #f3f5da\\\" title=\\\"Known status of Patient\\\">Deceased:</td><td colspan=\\\"3\\\">false</td></tr><tr><td style=\\\"background-color: #f3f5da\\\" title=\\\"Alternate names (see the one above)\\\">Alt Names:</td><td colspan=\\\"3\\\"><ul><li>Peter James Chalmers (OFFICIAL)</li><li>Peter James Windsor (MAIDEN)</li></ul></td></tr><tr><td style=\\\"background-color: #f3f5da\\\" title=\\\"Ways to contact the Patient\\\">Contact Details:</td><td colspan=\\\"3\\\"><ul><li>-unknown-(HOME)</li><li>ph: (03) 5555 6473(WORK)</li><li>ph: (03) 3410 5613(MOBILE)</li><li>ph: (03) 5555 8834(OLD)</li><li>534 Erewhon St PeasantVille, Rainbow, Vic  3999(HOME)</li></ul></td></tr><tr><td style=\\\"background-color: #f3f5da\\\" title=\\\"Nominated Contact: Next-of-Kin\\\">Next-of-Kin:</td><td colspan=\\\"3\\\"><ul><li>B\\u00e9n\\u00e9dicte du March\\u00e9  (female)</li><li>534 Erewhon St PleasantVille Vic 3999 (HOME)</li><li><a href=\\\"tel:+33(237)998327\\\">+33 (237) 998327</a></li><li>Valid Period: 2012 --&gt; (ongoing)</li></ul></td></tr><tr><td style=\\\"background-color: #f3f5da\\\" title=\\\"Patient Links\\\">Links:</td><td colspan=\\\"3\\\"><ul><li>Managing Organization: <a href=\\\"organization-example-gastro.html\\\">Organization/1</a> &quot;Gastroenterology&quot;</li></ul></td></tr></table></div>\"\n",
      "    },\n",
      "    \"identifier\": [\n",
      "        {\n",
      "            \"use\": \"usual\",\n",
      "            \"type\": {\n",
      "                \"coding\": [\n",
      "                    {\n",
      "                        \"system\": \"http://terminology.hl7.org/CodeSystem/v2-0203\",\n",
      "                        \"code\": \"MR\"\n",
      "                    }\n",
      "                ]\n",
      "            },\n",
      "            \"system\": \"urn:oid:1.2.36.146.595.217.0.1\",\n",
      "            \"value\": \"12345\",\n",
      "            \"period\": {\n",
      "                \"start\": \"2001-05-06\"\n",
      "            },\n",
      "            \"assigner\": {\n",
      "                \"display\": \"Acme Healthcare\"\n",
      "            }\n",
      "        }\n",
      "    ],\n",
      "    \"active\": true,\n",
      "    \"name\": [\n",
      "        {\n",
      "            \"use\": \"official\",\n",
      "            \"family\": \"Chalmers\",\n",
      "            \"given\": [\n",
      "                \"Peter\",\n",
      "                \"James\"\n",
      "            ]\n",
      "        },\n",
      "        {\n",
      "            \"use\": \"usual\",\n",
      "            \"given\": [\n",
      "                \"Jim\"\n",
      "            ]\n",
      "        },\n",
      "        {\n",
      "            \"use\": \"maiden\",\n",
      "            \"family\": \"Windsor\",\n",
      "            \"given\": [\n",
      "                \"Peter\",\n",
      "                \"James\"\n",
      "            ],\n",
      "            \"period\": {\n",
      "                \"end\": \"2002\"\n",
      "            }\n",
      "        }\n",
      "    ],\n",
      "    \"telecom\": [\n",
      "        {\n",
      "            \"use\": \"home\"\n",
      "        },\n",
      "        {\n",
      "            \"system\": \"phone\",\n",
      "            \"value\": \"(03) 5555 6473\",\n",
      "            \"use\": \"work\",\n",
      "            \"rank\": 1\n",
      "        },\n",
      "        {\n",
      "            \"system\": \"phone\",\n",
      "            \"value\": \"(03) 3410 5613\",\n",
      "            \"use\": \"mobile\",\n",
      "            \"rank\": 2\n",
      "        },\n",
      "        {\n",
      "            \"system\": \"phone\",\n",
      "            \"value\": \"(03) 5555 8834\",\n",
      "            \"use\": \"old\",\n",
      "            \"period\": {\n",
      "                \"end\": \"2014\"\n",
      "            }\n",
      "        }\n",
      "    ],\n",
      "    \"gender\": \"male\",\n",
      "    \"birthDate\": \"1974-12-25\",\n",
      "    \"_birthDate\": {\n",
      "        \"extension\": [\n",
      "            {\n",
      "                \"url\": \"http://hl7.org/fhir/StructureDefinition/patient-birthTime\",\n",
      "                \"valueDateTime\": \"1974-12-25T14:35:45-05:00\"\n",
      "            }\n",
      "        ]\n",
      "    },\n",
      "    \"deceasedBoolean\": false,\n",
      "    \"address\": [\n",
      "        {\n",
      "            \"use\": \"home\",\n",
      "            \"type\": \"both\",\n",
      "            \"text\": \"534 Erewhon St PeasantVille, Rainbow, Vic  3999\",\n",
      "            \"line\": [\n",
      "                \"534 Erewhon St\"\n",
      "            ],\n",
      "            \"city\": \"PleasantVille\",\n",
      "            \"district\": \"Rainbow\",\n",
      "            \"state\": \"Vic\",\n",
      "            \"postalCode\": \"3999\",\n",
      "            \"period\": {\n",
      "                \"start\": \"1974-12-25\"\n",
      "            }\n",
      "        }\n",
      "    ],\n",
      "    \"contact\": [\n",
      "        {\n",
      "            \"relationship\": [\n",
      "                {\n",
      "                    \"coding\": [\n",
      "                        {\n",
      "                            \"system\": \"http://terminology.hl7.org/CodeSystem/v2-0131\",\n",
      "                            \"code\": \"N\"\n",
      "                        }\n",
      "                    ]\n",
      "                }\n",
      "            ],\n",
      "            \"name\": {\n",
      "                \"family\": \"du March\\u00e9\",\n",
      "                \"_family\": {\n",
      "                    \"extension\": [\n",
      "                        {\n",
      "                            \"url\": \"http://hl7.org/fhir/StructureDefinition/humanname-own-prefix\",\n",
      "                            \"valueString\": \"VV\"\n",
      "                        }\n",
      "                    ]\n",
      "                },\n",
      "                \"given\": [\n",
      "                    \"B\\u00e9n\\u00e9dicte\"\n",
      "                ]\n",
      "            },\n",
      "            \"telecom\": [\n",
      "                {\n",
      "                    \"system\": \"phone\",\n",
      "                    \"value\": \"+33 (237) 998327\"\n",
      "                }\n",
      "            ],\n",
      "            \"address\": {\n",
      "                \"use\": \"home\",\n",
      "                \"type\": \"both\",\n",
      "                \"line\": [\n",
      "                    \"534 Erewhon St\"\n",
      "                ],\n",
      "                \"city\": \"PleasantVille\",\n",
      "                \"district\": \"Rainbow\",\n",
      "                \"state\": \"Vic\",\n",
      "                \"postalCode\": \"3999\",\n",
      "                \"period\": {\n",
      "                    \"start\": \"1974-12-25\"\n",
      "                }\n",
      "            },\n",
      "            \"gender\": \"female\",\n",
      "            \"period\": {\n",
      "                \"start\": \"2012\"\n",
      "            }\n",
      "        }\n",
      "    ],\n",
      "    \"managingOrganization\": {\n",
      "        \"reference\": \"Organization/1\"\n",
      "    }\n",
      "}\n"
     ]
    }
   ],
   "source": [
    "# Import a FHIR example\n",
    "import wget\n",
    "import os\n",
    "import json\n",
    "filename = 'example.json'\n",
    "\n",
    "# Delete the file if it exists\n",
    "if os.path.exists(filename):\n",
    "    os.remove(filename)\n",
    "\n",
    "# Download the file\n",
    "wget.download('https://www.hl7.org/fhir/patient-example.json', filename)\n",
    "\n",
    "# Load json file\n",
    "try:\n",
    "    with open(filename) as f:\n",
    "        data = json.load(f)\n",
    "\n",
    "    # Print the json pretty\n",
    "    print(json.dumps(data, indent=4))\n",
    "\n",
    "except FileNotFoundError:\n",
    "    print(f\"The file '{filename}' was not found.\")\n",
    "except Exception as e:\n",
    "    print(f\"An error occurred: {str(e)}\")\n"
   ]
  },
  {
   "cell_type": "markdown",
   "metadata": {},
   "source": [
    "### Step 3\n",
    "\n",
    "Initiate the Semantic Kernel and fire-up with OpenAI model."
   ]
  },
  {
   "cell_type": "code",
   "execution_count": 3,
   "metadata": {},
   "outputs": [
    {
     "name": "stdout",
     "output_type": "stream",
     "text": [
      "Kernel loaded.\n",
      "Fire-up the kernel with gpt-35-turbo\n"
     ]
    }
   ],
   "source": [
    "# Load Semantic Kernel\n",
    "import semantic_kernel\n",
    "import semantic_kernel as sk\n",
    "from semantic_kernel.connectors.ai.open_ai import AzureChatCompletion\n",
    "\n",
    "kernel = semantic_kernel.Kernel()\n",
    "print(\"Kernel loaded.\")\n",
    "\n",
    "deployment = config.model\n",
    "endpoint = config.endpoint\n",
    "api_key = config.azure_api_key\n",
    "kernel.add_chat_service(\"dv\", AzureChatCompletion(deployment, endpoint, api_key))\n",
    "print(f\"Fire-up the kernel with {deployment}\")"
   ]
  },
  {
   "cell_type": "markdown",
   "metadata": {},
   "source": [
    "### Step 4\n",
    "\n",
    "Load plug-ins required to curate the congress notes."
   ]
  },
  {
   "cell_type": "code",
   "execution_count": 4,
   "metadata": {},
   "outputs": [
    {
     "name": "stdout",
     "output_type": "stream",
     "text": [
      "Plugins loaded.\n"
     ]
    }
   ],
   "source": [
    "plugins_directory = \"../plugins\"\n",
    "\n",
    "# Import the semantic functions\n",
    "my_functions = kernel.import_semantic_skill_from_directory(plugins_directory, \"FHIRanalysis\")\n",
    "\n",
    "print(\"Plugins loaded.\")"
   ]
  },
  {
   "cell_type": "markdown",
   "metadata": {},
   "source": [
    "### Step 5\n",
    "\n",
    "Execute the \"FHIR summarize\" process."
   ]
  },
  {
   "cell_type": "code",
   "execution_count": 5,
   "metadata": {},
   "outputs": [
    {
     "name": "stdout",
     "output_type": "stream",
     "text": [
      "The resource in question is a patient record in the FHIR standard. It contains information about a patient named Jim, including their gender, date of birth, medical record number, active status, deceased status, alternate names, contact details, next-of-kin information, and links to managing organizations.\n",
      "\n",
      "1. The resource is well defined as it provides clear and structured information about the patient. It includes all the necessary attributes and elements to represent a patient record.\n",
      "\n",
      "2. The resource appears to be well designed. It follows the FHIR standard and uses appropriate elements and attributes to represent the patient's information. The use of tables and lists to organize the data is also helpful for readability.\n",
      "\n",
      "3. The resource's implementation cannot be determined solely based on the provided text. It would require further examination of the actual implementation code and its adherence to the FHIR standard.\n"
     ]
    }
   ],
   "source": [
    "from semantic_kernel import ContextVariables\n",
    "\n",
    "# Summarize the FHIR resource\n",
    "input_str = str(data['text'])  # Ensure that the input is a string\n",
    "fhir_summary = asyncio.create_task(kernel.run_async(my_functions[\"Summarize\"], input_str=input_str))\n",
    "fhir_summary_result = await fhir_summary\n",
    "print(fhir_summary_result.result)"
   ]
  }
 ],
 "metadata": {
  "kernelspec": {
   "display_name": "Python 3",
   "language": "python",
   "name": "python3"
  },
  "language_info": {
   "codemirror_mode": {
    "name": "ipython",
    "version": 3
   },
   "file_extension": ".py",
   "mimetype": "text/x-python",
   "name": "python",
   "nbconvert_exporter": "python",
   "pygments_lexer": "ipython3",
   "version": "3.10.9"
  }
 },
 "nbformat": 4,
 "nbformat_minor": 2
}
