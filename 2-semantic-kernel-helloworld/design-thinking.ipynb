{
 "cells": [
  {
   "cell_type": "markdown",
   "metadata": {},
   "source": [
    "# Design Thinking using Semantic Kernel\n",
    "\n",
    "This is a humble implementation in Python of the amazing \"Mr Maeda Cozy AI Kitchen\", the original notebooks are written in C#: https://github.com/johnmaeda/Mr-Maeda-Cozy-AI-Kitchen/tree/main/DesignThinking.\n",
    "\n",
    "The idea of running an end-to-end automated Design Thinking process to analyze a problem and generate potential solutions is very appealing to me, and I think it is a great way to introduce people to the power of AI."
   ]
  },
  {
   "cell_type": "markdown",
   "metadata": {},
   "source": [
    "### Step 1\n",
    "\n",
    "Load configuration (don't forget to update it from 1-start-here notebook)"
   ]
  },
  {
   "cell_type": "code",
   "execution_count": 16,
   "metadata": {},
   "outputs": [],
   "source": [
    "# Import the libraries required for the notebook\n",
    "from IPython.display import Markdown\n",
    "import asyncio\n",
    "\n",
    "# Instatiate the config class\n",
    "import sys\n",
    "sys.path.append('..')\n",
    "from config.notebook_config import *\n",
    "config = notebook_config()\n",
    "# Load config from file\n",
    "config.load_config_from_file()"
   ]
  },
  {
   "cell_type": "markdown",
   "metadata": {},
   "source": [
    "### Step 2\n",
    "\n",
    "Initiate semantic kernel.\n"
   ]
  },
  {
   "cell_type": "code",
   "execution_count": 17,
   "metadata": {},
   "outputs": [
    {
     "name": "stdout",
     "output_type": "stream",
     "text": [
      "Kernel loaded.\n"
     ]
    }
   ],
   "source": [
    "# Load Semantic Kernel\n",
    "import semantic_kernel\n",
    "\n",
    "kernel = semantic_kernel.Kernel()\n",
    "\n",
    "print(\"Kernel loaded.\")"
   ]
  },
  {
   "cell_type": "markdown",
   "metadata": {},
   "source": [
    "### Step 3\n",
    "\n",
    "Fire-up the semantic kernel with the configured OpenAI model."
   ]
  },
  {
   "cell_type": "code",
   "execution_count": 18,
   "metadata": {},
   "outputs": [
    {
     "name": "stdout",
     "output_type": "stream",
     "text": [
      "Fire-up the kernel with gpt-35-turbo\n"
     ]
    }
   ],
   "source": [
    "import semantic_kernel as sk\n",
    "from semantic_kernel.connectors.ai.open_ai import AzureChatCompletion\n",
    "\n",
    "deployment = config.model\n",
    "endpoint = config.endpoint\n",
    "api_key = config.azure_api_key\n",
    "kernel.add_chat_service(\"dv\", AzureChatCompletion(deployment, endpoint, api_key))\n",
    "\n",
    "print(f\"Fire-up the kernel with {deployment}\")"
   ]
  },
  {
   "cell_type": "markdown",
   "metadata": {},
   "source": [
    "### Step 4\n",
    "\n",
    "Load the plug-ins to the semantic kernel."
   ]
  },
  {
   "cell_type": "code",
   "execution_count": 19,
   "metadata": {},
   "outputs": [
    {
     "name": "stdout",
     "output_type": "stream",
     "text": [
      "Plugins loaded.\n"
     ]
    }
   ],
   "source": [
    "plugins_directory = \"../plugins-sk\"\n",
    "\n",
    "# Import the semantic functions\n",
    "my_functions = kernel.import_semantic_skill_from_directory(plugins_directory, \"DesignThinking\")\n",
    "\n",
    "print(\"Plugins loaded.\")"
   ]
  },
  {
   "cell_type": "markdown",
   "metadata": {},
   "source": [
    "### Step 5\n",
    "\n",
    "Use one of the plug-ins to generate a sentiment response to a given input (using \"empathize\" plug-in)."
   ]
  },
  {
   "cell_type": "code",
   "execution_count": 20,
   "metadata": {},
   "outputs": [
    {
     "name": "stdout",
     "output_type": "stream",
     "text": [
      "[\n",
      "    { \"sentiment\": \"negative\", \"summary\": \"The car doesn't start\" },\n",
      "    { \"sentiment\": \"negative\", \"summary\": \"The engine makes a strange noise\" },\n",
      "    { \"sentiment\": \"positive\", \"summary\": \"The mechanic was very helpful\" },\n",
      "    { \"sentiment\": \"negative\", \"summary\": \"No one could identify the problem\" },\n",
      "    { \"sentiment\": \"negative\", \"summary\": \"The GPS is not working properly\" }\n",
      "]\n"
     ]
    }
   ],
   "source": [
    "input_str = \"1. The car doesn't start \\\n",
    "2. The engine makes a strange noise \\\n",
    "3. The mechanic was very helpful \\\n",
    "4. No one could identify the problem \\\n",
    "5. The GPS is not working properly\"\n",
    "\n",
    "# Create a new task for the coroutine\n",
    "task = asyncio.create_task(kernel.run_async(my_functions[\"Empathize\"], input_str=input_str))\n",
    "\n",
    "# Run the event loop until the task completes\n",
    "empathize_result = await task\n",
    "print(empathize_result)"
   ]
  },
  {
   "cell_type": "markdown",
   "metadata": {},
   "source": [
    "### Step 6\n",
    "\n",
    "Feed the previous \"empathize\" output to the next step of Design Thinking, \"Define\" (using the \"define\" plug-in)."
   ]
  },
  {
   "cell_type": "code",
   "execution_count": 21,
   "metadata": {},
   "outputs": [
    {
     "data": {
      "text/markdown": [
       "| Analysis | Definition | Possible Source |\n",
       "| :--- | :--- | :--- |\n",
       "| The car doesn't start | The customer is experiencing difficulty starting their car. | Possible issues with the battery, ignition system, or fuel system. |\n",
       "| The engine makes a strange noise | The customer hears unusual sounds coming from their car's engine. | Possible issues with the engine components, such as belts, bearings, or valves. |\n",
       "| The mechanic was very helpful | The customer had a positive experience with a mechanic. | Good customer service and expertise of the mechanic. |\n",
       "| No one could identify the problem | The customer's car issue could not be diagnosed by any support staff. | Complex or rare problem that requires specialized knowledge or equipment. |\n",
       "| The GPS is not working properly | The customer is facing issues with the functionality of their car's GPS system. | Software or hardware malfunction in the GPS system. |"
      ],
      "text/plain": [
       "<IPython.core.display.Markdown object>"
      ]
     },
     "metadata": {},
     "output_type": "display_data"
    }
   ],
   "source": [
    "# Use empathize_result to run the next function\n",
    "task = asyncio.create_task(kernel.run_async(my_functions[\"Define\"], input_str=empathize_result.result))\n",
    "define_result = await task\n",
    "\n",
    "display(Markdown(define_result.result))\n"
   ]
  },
  {
   "cell_type": "markdown",
   "metadata": {},
   "source": [
    "### Step 7\n",
    "\n",
    "Execute a pipeline, with several plug-ins in a row, to generate a full Design Thinking process."
   ]
  },
  {
   "cell_type": "code",
   "execution_count": 55,
   "metadata": {},
   "outputs": [
    {
     "data": {
      "text/markdown": [
       "1. Implement a battery testing tool to quickly diagnose battery issues in cars that don't start.\n",
       "\n",
       "Low-resolution paper prototype: Create a simple paper tool that mechanics can use to simulate the battery testing process. The tool can have different sections representing the battery voltage levels and a dial to indicate the result. Mechanics can use this tool to practice diagnosing battery issues and understand how to interpret the results.\n",
       "\n",
       "2. Provide training and resources to mechanics to improve their knowledge and skills in diagnosing and fixing engine problems.\n",
       "\n",
       "Low-resolution paper prototype: Design a paper-based training manual that covers various engine problems and their solutions. The manual can include step-by-step instructions, diagrams, and troubleshooting tips. Mechanics can go through the manual and simulate diagnosing and fixing engine problems using the provided information.\n",
       "\n",
       "3. Develop a customer feedback system to recognize and reward helpful mechanics, encouraging positive customer experiences.\n",
       "\n",
       "Low-resolution paper prototype: Create a paper feedback form that customers can fill out after their car is repaired. The form can include questions about the mechanic's helpfulness, professionalism, and overall satisfaction. Mechanics can collect and analyze the feedback to understand areas of improvement and identify mechanics who consistently receive positive feedback.\n",
       "\n",
       "4. Collaborate with other repair shops or experts in the industry to seek assistance in identifying and resolving complex car issues.\n",
       "\n",
       "Low-resolution paper prototype: Design a paper-based collaboration request form that repair shops can fill out when they need assistance with complex car issues. The form can include details about the problem, the expertise required, and contact information. Repair shops can send these forms to other shops or experts to seek their assistance and expertise.\n",
       "\n",
       "5. Offer a warranty or guarantee for customers who do not receive a resolution to their car problem, ensuring their satisfaction and providing alternative solutions.\n",
       "\n",
       "Low-resolution paper prototype: Create a paper warranty certificate that outlines the terms and conditions of the warranty or guarantee. The certificate can include information about the duration of the warranty, what issues are covered, and the process for claiming the warranty. Customers can receive this certificate after their car is repaired, providing them with assurance and alternative solutions if their problem persists."
      ],
      "text/plain": [
       "<IPython.core.display.Markdown object>"
      ]
     },
     "metadata": {},
     "output_type": "display_data"
    }
   ],
   "source": [
    "# Input string\n",
    "input_str = \"Customer 1: The car doesn't start \\\n",
    "Customer 2. The engine makes a strange noise \\\n",
    "Customer 3. The mechanic was very helpful \\\n",
    "Customer 4. No one could identify the problem \\\n",
    "Customer 5. The GPS is not working properly\"\n",
    "\n",
    "# Define the pipeline functions\n",
    "empathize = kernel.skills.get_function(\"DesignThinking\", \"Empathize\")\n",
    "define = kernel.skills.get_function(\"DesignThinking\", \"Define\")\n",
    "ideate = kernel.skills.get_function(\"DesignThinking\", \"Ideate\")\n",
    "prototype = kernel.skills.get_function(\"DesignThinking\", \"PrototypeWithPaper\")\n",
    "\n",
    "# Create a new task for the coroutine\n",
    "task = asyncio.create_task(kernel.run_async(empathize, define, ideate, prototype, input_str=input_str))\n",
    "\n",
    "# Run the event loop until the task completes\n",
    "output = await task\n",
    "\n",
    "display(Markdown(output.result))"
   ]
  }
 ],
 "metadata": {
  "kernelspec": {
   "display_name": "Python 3",
   "language": "python",
   "name": "python3"
  },
  "language_info": {
   "codemirror_mode": {
    "name": "ipython",
    "version": 3
   },
   "file_extension": ".py",
   "mimetype": "text/x-python",
   "name": "python",
   "nbconvert_exporter": "python",
   "pygments_lexer": "ipython3",
   "version": "3.11.2"
  }
 },
 "nbformat": 4,
 "nbformat_minor": 2
}
