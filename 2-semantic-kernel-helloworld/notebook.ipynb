{
 "cells": [
  {
   "cell_type": "markdown",
   "metadata": {},
   "source": [
    "### Step 1\n",
    "\n",
    "Load configuration (don't forget to update it from 1-start-here notebook)"
   ]
  },
  {
   "cell_type": "code",
   "execution_count": 24,
   "metadata": {},
   "outputs": [],
   "source": [
    "# Instatiate the config class\n",
    "import sys\n",
    "sys.path.append(\"../config\")\n",
    "from notebook_config import notebook_config\n",
    "config = notebook_config()\n",
    "# Load config from file\n",
    "config.load_config_from_file()\n"
   ]
  },
  {
   "cell_type": "markdown",
   "metadata": {},
   "source": [
    "### Step 2\n",
    "\n",
    "Initiate semantic kernel.\n"
   ]
  },
  {
   "cell_type": "code",
   "execution_count": 25,
   "metadata": {},
   "outputs": [
    {
     "name": "stdout",
     "output_type": "stream",
     "text": [
      "Kernel loaded.\n"
     ]
    }
   ],
   "source": [
    "# Load Semantic Kernel\n",
    "import semantic_kernel\n",
    "\n",
    "kernel = semantic_kernel.Kernel()\n",
    "\n",
    "print(\"Kernel loaded.\")"
   ]
  },
  {
   "cell_type": "markdown",
   "metadata": {},
   "source": [
    "### Step 3\n",
    "\n",
    "Fire-up the semantic kernel with the configured OpenAI model."
   ]
  },
  {
   "cell_type": "code",
   "execution_count": 26,
   "metadata": {},
   "outputs": [
    {
     "name": "stdout",
     "output_type": "stream",
     "text": [
      "Fire-up the kernel with gpt-35-turbo\n"
     ]
    }
   ],
   "source": [
    "import semantic_kernel as sk\n",
    "from semantic_kernel.connectors.ai.open_ai import AzureChatCompletion\n",
    "\n",
    "deployment = config.model\n",
    "endpoint = config.endpoint\n",
    "api_key = config.azure_api_key\n",
    "kernel.add_chat_service(\"dv\", AzureChatCompletion(deployment, endpoint, api_key))\n",
    "\n",
    "print(f\"Fire-up the kernel with {deployment}\")"
   ]
  },
  {
   "cell_type": "markdown",
   "metadata": {},
   "source": [
    "### Step 4\n",
    "\n",
    "Load the plug-ins to the semantic kernel."
   ]
  },
  {
   "cell_type": "code",
   "execution_count": 27,
   "metadata": {},
   "outputs": [
    {
     "name": "stdout",
     "output_type": "stream",
     "text": [
      "Plugins loaded.\n"
     ]
    }
   ],
   "source": [
    "plugins_directory = \"./plugins-sk\"\n",
    "\n",
    "# Import the semantic functions\n",
    "my_functions = kernel.import_semantic_skill_from_directory(plugins_directory, \"DesignThinking\")\n",
    "\n",
    "print(\"Plugins loaded.\")"
   ]
  },
  {
   "cell_type": "markdown",
   "metadata": {},
   "source": [
    "### Step 5\n",
    "\n",
    "Use one of the plug-ins to generate a sentiment response to a given input (using \"empathize\" plug-in)."
   ]
  },
  {
   "cell_type": "code",
   "execution_count": 28,
   "metadata": {},
   "outputs": [
    {
     "name": "stdout",
     "output_type": "stream",
     "text": [
      "[\n",
      "    { \"sentiment\": \"frustration\", \"summary\": \"car doesn't start\" },\n",
      "    { \"sentiment\": \"concern\", \"summary\": \"engine makes a strange noise\" },\n",
      "    { \"sentiment\": \"satisfaction\", \"summary\": \"mechanic was very helpful\" },\n",
      "    { \"sentiment\": \"disappointment\", \"summary\": \"no one could identify the problem\" },\n",
      "    { \"sentiment\": \"dissatisfaction\", \"summary\": \"GPS is not working properly\" }\n",
      "]\n"
     ]
    }
   ],
   "source": [
    "import asyncio\n",
    "\n",
    "input_str = \"1. The car doesn't start \\\n",
    "2. The engine makes a strange noise \\\n",
    "3. The mechanic was very helpful \\\n",
    "4. No one could identify the problem \\\n",
    "5. The GPS is not working properly\"\n",
    "\n",
    "# Create a new task for the coroutine\n",
    "task = asyncio.create_task(kernel.run_async(my_functions[\"Empathize\"], input_str=input_str))\n",
    "\n",
    "# Run the event loop until the task completes\n",
    "empathize_result = await task\n",
    "print(empathize_result)"
   ]
  },
  {
   "cell_type": "markdown",
   "metadata": {},
   "source": [
    "### Step 6\n",
    "\n",
    "Feed the previous \"empathize\" output to the next step of Design Thinking, \"Define\" (using the \"define\" plug-in)."
   ]
  },
  {
   "cell_type": "code",
   "execution_count": 38,
   "metadata": {},
   "outputs": [
    {
     "data": {
      "text/markdown": [
       "| Analysis | Definition | Possible Source |\n",
       "| :--- | :--- | :--- |\n",
       "| Frustration | Car doesn't start | Mechanical issues with the car |\n",
       "| Concern | Engine makes a strange noise | Potential engine malfunction |\n",
       "| Satisfaction | Mechanic was very helpful | Positive customer service experience |\n",
       "| Disappointment | No one could identify the problem | Lack of expertise or diagnostic capabilities |\n",
       "| Dissatisfaction | GPS is not working properly | Technical malfunction or software issue |"
      ],
      "text/plain": [
       "<IPython.core.display.Markdown object>"
      ]
     },
     "execution_count": 38,
     "metadata": {},
     "output_type": "execute_result"
    }
   ],
   "source": [
    "from IPython.display import Markdown\n",
    "\n",
    "# Use empathize_result to run the next function\n",
    "task = asyncio.create_task(kernel.run_async(my_functions[\"Define\"], input_str=empathize_result.result))\n",
    "define_result = await task\n",
    "\n",
    "display(Markdown(define_result.result))\n"
   ]
  },
  {
   "cell_type": "code",
   "execution_count": 48,
   "metadata": {},
   "outputs": [
    {
     "data": {
      "text/markdown": [
       "1. Solution: Provide a battery testing service\n",
       "   - Paper Prototype: Create a simple form or checklist that mechanics can use to record the battery testing process. It should include steps such as checking the battery voltage, inspecting the battery terminals, and testing the battery's cranking amps. The form can be filled out manually during the testing process.\n",
       "\n",
       "2. Solution: Offer a free engine noise consultation\n",
       "   - Paper Prototype: Design a script or questionnaire that mechanics can use during the consultation to gather information about the engine noise. It should include questions about the type of noise, when it occurs, and any other relevant details. The mechanic can use this paper prototype to guide the conversation and gather necessary information.\n",
       "\n",
       "3. Solution: Create a customer feedback system for mechanics\n",
       "   - Paper Prototype: Develop a feedback form that customers can fill out after their service appointment. The form should include questions about the quality of service, communication, and overall satisfaction. The paper prototype can be a simple printed form that customers can complete and submit manually.\n",
       "\n",
       "4. Solution: Develop troubleshooting guides for common GPS issues\n",
       "   - Paper Prototype: Create a series of flowcharts or decision trees that mechanics can use to troubleshoot common GPS issues. Each flowchart should provide step-by-step instructions based on the symptoms reported by the customer. The paper prototype can be a set of printed flowcharts that mechanics can follow during the troubleshooting process.\n",
       "\n",
       "5. Solution: Offer discounts for basic car maintenance services\n",
       "   - Paper Prototype: Design a coupon or voucher that customers can present to avail the discount. The paper prototype can include details such as the discount amount, validity period, and any specific terms and conditions. The prototype can be a printed coupon that customers can physically bring to the service center to redeem the discount.\n",
       "\n",
       "6. Solution: Collaborate with car manufacturers for technical support\n",
       "   - Paper Prototype: Create a contact list or directory of car manufacturers' technical support teams. The prototype can include the names, phone numbers, and email addresses of the relevant contacts. The paper prototype can be a printed document that mechanics can refer to when they need technical support from specific car manufacturers."
      ],
      "text/plain": [
       "<IPython.core.display.Markdown object>"
      ]
     },
     "metadata": {},
     "output_type": "display_data"
    }
   ],
   "source": [
    "import asyncio\n",
    "\n",
    "input_str = \"Customer 1: The car doesn't start \\\n",
    "Customer 2. The engine makes a strange noise \\\n",
    "Customer 3. The mechanic was very helpful \\\n",
    "Customer 4. No one could identify the problem \\\n",
    "Customer 5. The GPS is not working properly\"\n",
    "\n",
    "# Define the pipeline functions\n",
    "empathize = kernel.skills.get_function(\"DesignThinking\", \"Empathize\")\n",
    "define = kernel.skills.get_function(\"DesignThinking\", \"Define\")\n",
    "ideate = kernel.skills.get_function(\"DesignThinking\", \"Ideate\")\n",
    "prototype = kernel.skills.get_function(\"DesignThinking\", \"PrototypeWithPaper\")\n",
    "\n",
    "# Create a new task for the coroutine\n",
    "task = asyncio.create_task(kernel.run_async(empathize, define, ideate, prototype, input_str=input_str))\n",
    "\n",
    "# Run the event loop until the task completes\n",
    "output = await task\n",
    "\n",
    "display(Markdown(output.result))"
   ]
  }
 ],
 "metadata": {
  "kernelspec": {
   "display_name": "Python 3",
   "language": "python",
   "name": "python3"
  },
  "language_info": {
   "codemirror_mode": {
    "name": "ipython",
    "version": 3
   },
   "file_extension": ".py",
   "mimetype": "text/x-python",
   "name": "python",
   "nbconvert_exporter": "python",
   "pygments_lexer": "ipython3",
   "version": "3.11.2"
  }
 },
 "nbformat": 4,
 "nbformat_minor": 2
}
