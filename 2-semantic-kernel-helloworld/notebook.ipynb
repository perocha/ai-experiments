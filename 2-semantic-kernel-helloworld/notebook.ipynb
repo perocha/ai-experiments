{
 "cells": [
  {
   "cell_type": "markdown",
   "metadata": {},
   "source": [
    "### Step 1\n",
    "\n",
    "Load configuration (don't forget to update it from 1-start-here notebook)"
   ]
  },
  {
   "cell_type": "code",
   "execution_count": 15,
   "metadata": {},
   "outputs": [],
   "source": [
    "# Instatiate the config class\n",
    "import sys\n",
    "sys.path.append(\"../config\")\n",
    "from notebook_config import notebook_config\n",
    "config = notebook_config()\n",
    "# Load config from file\n",
    "config.load_config_from_file()\n"
   ]
  },
  {
   "cell_type": "markdown",
   "metadata": {},
   "source": [
    "### Step 2\n",
    "\n",
    "Initiate semantic kernel.\n"
   ]
  },
  {
   "cell_type": "code",
   "execution_count": 16,
   "metadata": {},
   "outputs": [
    {
     "name": "stdout",
     "output_type": "stream",
     "text": [
      "Kernel loaded.\n"
     ]
    }
   ],
   "source": [
    "# Load Semantic Kernel\n",
    "import semantic_kernel\n",
    "\n",
    "kernel = semantic_kernel.Kernel()\n",
    "\n",
    "print(\"Kernel loaded.\")"
   ]
  },
  {
   "cell_type": "markdown",
   "metadata": {},
   "source": [
    "### Step 3\n",
    "\n",
    "Fire-up the semantic kernel with the configured OpenAI model."
   ]
  },
  {
   "cell_type": "code",
   "execution_count": 19,
   "metadata": {},
   "outputs": [
    {
     "name": "stdout",
     "output_type": "stream",
     "text": [
      "Fire-up the kernel with gpt-35-turbo\n"
     ]
    }
   ],
   "source": [
    "import semantic_kernel as sk\n",
    "from semantic_kernel.connectors.ai.open_ai import AzureChatCompletion\n",
    "\n",
    "deployment = config.model\n",
    "endpoint = config.endpoint\n",
    "api_key = config.azure_api_key\n",
    "kernel.add_chat_service(\"dv\", AzureChatCompletion(deployment, endpoint, api_key))\n",
    "\n",
    "print(f\"Fire-up the kernel with {deployment}\")"
   ]
  },
  {
   "cell_type": "markdown",
   "metadata": {},
   "source": [
    "### Step 4\n",
    "\n",
    "Load the plug-ins to the semantic kernel."
   ]
  },
  {
   "cell_type": "code",
   "execution_count": 20,
   "metadata": {},
   "outputs": [
    {
     "name": "stdout",
     "output_type": "stream",
     "text": [
      "Plugins loaded.\n"
     ]
    }
   ],
   "source": [
    "plugins_directory = \"./plugins-sk\"\n",
    "\n",
    "# Import the semantic functions\n",
    "my_functions = kernel.import_semantic_skill_from_directory(plugins_directory, \"DesignThinking\")\n",
    "\n",
    "print(\"Plugins loaded.\")"
   ]
  },
  {
   "cell_type": "markdown",
   "metadata": {},
   "source": [
    "### Step 5\n",
    "\n",
    "Use one of the plug-ins to generate a sentiment response to a given input (using \"empathize\" plug-in)."
   ]
  },
  {
   "cell_type": "code",
   "execution_count": 23,
   "metadata": {},
   "outputs": [
    {
     "name": "stdout",
     "output_type": "stream",
     "text": [
      "[\n",
      "    { \"sentiment\": \"negative\", \"summary\": \"The car doesn't start\" },\n",
      "    { \"sentiment\": \"negative\", \"summary\": \"The engine makes a strange noise\" },\n",
      "    { \"sentiment\": \"positive\", \"summary\": \"The mechanic was very helpful\" },\n",
      "    { \"sentiment\": \"negative\", \"summary\": \"No one could identify the problem\" },\n",
      "    { \"sentiment\": \"negative\", \"summary\": \"The GPS is not working properly\" }\n",
      "]\n"
     ]
    }
   ],
   "source": [
    "import asyncio\n",
    "\n",
    "input_str = \"1. The car doesn't start \\\n",
    "2. The engine makes a strange noise \\\n",
    "3. The mechanic was very helpful \\\n",
    "4. No one could identify the problem \\\n",
    "5. The GPS is not working properly\"\n",
    "\n",
    "# Create a new task for the coroutine\n",
    "task = asyncio.create_task(kernel.run_async(my_functions[\"Empathize\"], input_str=input_str))\n",
    "\n",
    "# Run the event loop until the task completes\n",
    "output = await task\n",
    "print(output)"
   ]
  }
 ],
 "metadata": {
  "kernelspec": {
   "display_name": "Python 3",
   "language": "python",
   "name": "python3"
  },
  "language_info": {
   "codemirror_mode": {
    "name": "ipython",
    "version": 3
   },
   "file_extension": ".py",
   "mimetype": "text/x-python",
   "name": "python",
   "nbconvert_exporter": "python",
   "pygments_lexer": "ipython3",
   "version": "3.11.2"
  }
 },
 "nbformat": 4,
 "nbformat_minor": 2
}
