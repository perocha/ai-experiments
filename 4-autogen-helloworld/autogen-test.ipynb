{
 "cells": [
  {
   "cell_type": "code",
   "execution_count": null,
   "metadata": {},
   "outputs": [],
   "source": [
    "# Instatiate the config class\n",
    "import sys\n",
    "sys.path.append(\"../config\")\n",
    "from notebook_config import notebook_config\n",
    "config = notebook_config()\n",
    "# Load config from file\n",
    "config.load_config_from_file()\n"
   ]
  },
  {
   "cell_type": "code",
   "execution_count": null,
   "metadata": {},
   "outputs": [],
   "source": [
    "from autogen import get_config_list\n",
    "\n",
    "# Get the config\n",
    "api_type = config.get_api_type()\n",
    "endpoint = config.get_endpoint()\n",
    "model = \"gpt-35-turbo\" # It's hardcoded in autogen to gpt4\n",
    "model_version = config.get_model_version()\n",
    "azure_api_key = config.get_api_key()\n",
    "config_list = get_config_list(\n",
    "    api_keys=[azure_api_key],\n",
    "    api_bases=[endpoint],\n",
    "    api_type=api_type,\n",
    "    api_version=model_version\n",
    ")\n"
   ]
  },
  {
   "cell_type": "code",
   "execution_count": null,
   "metadata": {},
   "outputs": [],
   "source": [
    "from autogen import AssistantAgent, UserProxyAgent\n",
    "\n",
    "# Instantiate the Assistant Agent\n",
    "assistant = AssistantAgent(name=\"Assistant\", llm_config=config_list)\n",
    "\n",
    "# Instantiate the User Proxy Agent\n",
    "user_proxy = UserProxyAgent(name=\"user_proxy\", code_execution_config={\"work_dir\": \"coding\"}, llm_config=config_list)\n"
   ]
  },
  {
   "cell_type": "code",
   "execution_count": null,
   "metadata": {},
   "outputs": [],
   "source": [
    "# Start the agents\n",
    "\n",
    "# Get input from user\n",
    "user_input = input(\"How can I help you today?\")\n",
    "\n",
    "user_proxy.initiate_chat(assistant, message=user_input)"
   ]
  }
 ],
 "metadata": {
  "kernelspec": {
   "display_name": "Python 3",
   "language": "python",
   "name": "python3"
  },
  "language_info": {
   "codemirror_mode": {
    "name": "ipython",
    "version": 3
   },
   "file_extension": ".py",
   "mimetype": "text/x-python",
   "name": "python",
   "nbconvert_exporter": "python",
   "pygments_lexer": "ipython3",
   "version": "3.10.9"
  }
 },
 "nbformat": 4,
 "nbformat_minor": 2
}
